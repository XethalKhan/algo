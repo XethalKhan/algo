{
 "cells": [
  {
   "cell_type": "markdown",
   "metadata": {},
   "source": [
    "**The Euclidean algorithm**, or Euclid's algorithm, is an efficient method for computing the greatest common divisor (GCD) of two integers (numbers), the largest number that divides them both without a remainder.\n",
    "\n",
    "**The greatest common divisor (gcd)** of two or more integers, which are not all zero, is the largest positive integer that divides each of the integers. For two integers x, y, the greatest common divisor of x and y is denoted \n",
    "$\\gcd(x,y)$. For example, the gcd of 8 and 12 is 4, that is, $\\gcd(8,12)=4$.\n",
    "\n",
    "    "
   ]
  },
  {
   "cell_type": "markdown",
   "metadata": {},
   "source": [
    "![Euclid&#039;s algorithm Book VII Proposition 2 3](https://upload.wikimedia.org/wikipedia/commons/3/37/Euclid%27s_algorithm_Book_VII_Proposition_2_3.png \"Euclids algorithm\")\n",
    "\n",
    ">Euclid's method for finding the greatest common divisor (GCD) of two starting lengths BA and DC, both defined to be multiples of a common \"unit\" length. The length DC being shorter, it is used to \"measure\" BA, but only once because remainder EA is less than DC. EA now measures (twice) the shorter length DC, with remainder FC shorter than EA. Then FC measures (three times) length EA. Because there is no remainder, the process ends with FC being the GCD. On the right Nicomachus's example with numbers 49 and 21 resulting in their GCD of 7 (derived from Heath 1908:300).\n",
    "\n",
    "[License: Wvbailey, CC BY 3.0, via Wikimedia Commons](https://creativecommons.org/licenses/by/3.0) "
   ]
  },
  {
   "cell_type": "code",
   "execution_count": 1,
   "metadata": {},
   "outputs": [],
   "source": [
    "class EuclideanAlgorithm{\n",
    "\n",
    "    public static int process(int a, int b){\n",
    "        if (a == 0){\n",
    "            return b;\n",
    "        }\n",
    "\n",
    "        return process(b%a, a);\n",
    "    }\n",
    "\n",
    "}"
   ]
  },
  {
   "cell_type": "code",
   "execution_count": 2,
   "metadata": {},
   "outputs": [
    {
     "name": "stdout",
     "output_type": "stream",
     "text": [
      "gcd(12, 8) = 4\r\n"
     ]
    }
   ],
   "source": [
    "int a = 12;\n",
    "int b = 8;\n",
    "int result = EuclideanAlgorithm.process(a, b);\n",
    "System.out.println(\"gcd(\" + a + \", \" + b +\") = \" + result);"
   ]
  },
  {
   "cell_type": "markdown",
   "metadata": {},
   "source": [
    "Reference [geeksforgeeks.org - Euclidean algorithms](https://www.geeksforgeeks.org/euclidean-algorithms-basic-and-extended/)"
   ]
  },
  {
   "cell_type": "code",
   "execution_count": null,
   "metadata": {},
   "outputs": [],
   "source": []
  }
 ],
 "metadata": {
  "kernelspec": {
   "display_name": "Java",
   "language": "java",
   "name": "java"
  },
  "language_info": {
   "codemirror_mode": "java",
   "file_extension": ".jshell",
   "mimetype": "text/x-java-source",
   "name": "Java",
   "pygments_lexer": "java",
   "version": "15.0.1+9-18"
  }
 },
 "nbformat": 4,
 "nbformat_minor": 4
}
