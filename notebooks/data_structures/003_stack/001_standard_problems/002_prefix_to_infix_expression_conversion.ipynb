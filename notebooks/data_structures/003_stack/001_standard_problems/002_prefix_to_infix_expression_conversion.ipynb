{
 "cells": [
  {
   "cell_type": "markdown",
   "metadata": {},
   "source": [
    "# Prefix to Infix expression conversion  \n",
    "  \n",
    "**Infix expression**:The expression of the form $a + b$. When an operator is in-between every pair of operands.  \n",
    "**Prefix expression**:The expression of the form $+ a b$. When an operator is placed before every pair of operands.  \n",
    "  \n",
    "Computers usually does the computation in either prefix or postfix (usually postfix). But for humans, its easier to understand an Infix expression rather than a prefix. Hence conversion is need for human understanding.  \n",
    "  \n",
    "`Input (Prefix) :  *+AB-CD`  \n",
    "`Output (Infix) : ((A+B)*(C-D))`\n",
    "  \n",
    "### Algorithm \n",
    "1. Read the Prefix expression in reverse order (from right to left)\n",
    "2. If the symbol is an operand, then push it onto the Stack\n",
    "3. If the symbol is an operator, then pop two operands from the stack, create a string by concatenating the two operands and the operator between them. $string = (operand1 + operator + operand2)$ and push the resultant string back to stack\n",
    "4. Repeat the above steps until end of Prefix expression. \n",
    "  \n",
    "### Linked list node\n",
    "\n",
    "We will use Linked list implementation of Stack, so we can focus on conversion logic, not memory management."
   ]
  },
  {
   "cell_type": "code",
   "execution_count": 1,
   "metadata": {},
   "outputs": [],
   "source": [
    "public class Node<T>{\n",
    "    \n",
    "    public T data;\n",
    "    public Node next;\n",
    "    \n",
    "    public Node(T data){\n",
    "        this.data = data;\n",
    "        this.next = null;\n",
    "    }\n",
    "    \n",
    "}"
   ]
  },
  {
   "cell_type": "markdown",
   "metadata": {},
   "source": [
    "### Stack implementation"
   ]
  },
  {
   "cell_type": "code",
   "execution_count": 2,
   "metadata": {},
   "outputs": [],
   "source": [
    "public class Stack<T>{\n",
    "    private Node<T> head;\n",
    "    \n",
    "    public Stack(){\n",
    "        this.head = null;\n",
    "    }\n",
    "    \n",
    "    public boolean push(T data){\n",
    "        \n",
    "        Node<T> add = new Node<T>(data);\n",
    "        \n",
    "        if(this.head == null){\n",
    "            this.head = add;\n",
    "            return true;\n",
    "        }\n",
    "        \n",
    "        add.next = this.head;\n",
    "        this.head = add;\n",
    "        \n",
    "        return true;\n",
    "        \n",
    "    }\n",
    "    \n",
    "    public T pop(){\n",
    "        if(this.head == null){\n",
    "            return null;\n",
    "        }\n",
    "        \n",
    "        Node<T> temp = this.head;\n",
    "        \n",
    "        this.head = this.head.next;\n",
    "        \n",
    "        return temp.data;\n",
    "        \n",
    "    }\n",
    "    \n",
    "    public T peek(){\n",
    "        if(this.head == null){\n",
    "            return null;\n",
    "        }\n",
    "        \n",
    "        return this.head.data;\n",
    "    }\n",
    "    \n",
    "    public boolean isEmpty(){\n",
    "        return this.head == null;\n",
    "    }\n",
    "    \n",
    "    public String toString(){\n",
    "    \n",
    "        if(this.isEmpty()){\n",
    "            return \"Empty stack\";\n",
    "        }\n",
    "    \n",
    "        String txt = \"\";\n",
    "        \n",
    "        Node<T> loop = this.head;\n",
    "        \n",
    "        while(loop != null){\n",
    "            txt += loop.data + \"  \";\n",
    "            loop = loop.next;\n",
    "        }\n",
    "        \n",
    "        return txt;\n",
    "    }\n",
    "}"
   ]
  },
  {
   "cell_type": "markdown",
   "metadata": {},
   "source": [
    "### Precedence function  \n",
    "  \n",
    "Function to determine if character is operator. We do not need to determine precedance of operations inside prefix expression, because position of operators inside prefix expression determines its precedence, provided prefix expression is valid."
   ]
  },
  {
   "cell_type": "code",
   "execution_count": 3,
   "metadata": {},
   "outputs": [],
   "source": [
    "public class isOperator{\n",
    "\n",
    "    public static boolean process(char ch) \n",
    "    { \n",
    "        switch (ch) \n",
    "        { \n",
    "            case '+': \n",
    "            case '-': \n",
    "            case '*': \n",
    "            case '/': \n",
    "            case '^': \n",
    "                return true; \n",
    "        } \n",
    "        return false; \n",
    "    } \n",
    "\n",
    "}"
   ]
  },
  {
   "cell_type": "markdown",
   "metadata": {},
   "source": [
    "### Prefix to infix conversion function"
   ]
  },
  {
   "cell_type": "code",
   "execution_count": 4,
   "metadata": {},
   "outputs": [],
   "source": [
    "public class PrefixToInfix{\n",
    "\n",
    "    public static String process(String exp){\n",
    "          \n",
    "        // initializing empty stack \n",
    "        Stack<String> stack = new Stack<>(); \n",
    "        \n",
    "        // Length of expression \n",
    "        int l = exp.length();\n",
    "          \n",
    "        for (int i = l - 1; i >= 0; i--){\n",
    "        \n",
    "            char c = exp.charAt(i); \n",
    "              \n",
    "             /*3. If the symbol is an operator, then pop two operands from the stack, \n",
    "            create a string by concatenating the two operands and the operator between them\n",
    "            and push the resultant string back to stack\n",
    "            */\n",
    "            if (isOperator.process(c))\n",
    "            {\n",
    "                String op1 = stack.pop();\n",
    "                String op2 = stack.pop();\n",
    "\n",
    "                // Concat the operands and operator \n",
    "                String temp = \"(\" + op1 + c + op2 + \")\";\n",
    "                stack.push(temp);\n",
    "            }\n",
    "            //2. If the symbol is an operand, then push it onto the Stack\n",
    "            else\n",
    "            {\n",
    "\n",
    "                // To make character to string\n",
    "                stack.push(c + \"\"); \n",
    "            }\n",
    "            \n",
    "            System.out.println(\"\\nIteration \" + (l - i) + \" for character \" + c);\n",
    "            System.out.println(\"Stack = \" + stack);\n",
    "       \n",
    "        } \n",
    "        \n",
    "        return stack.pop(); \n",
    "    \n",
    "    }\n",
    "\n",
    "}"
   ]
  },
  {
   "cell_type": "markdown",
   "metadata": {},
   "source": [
    "### Example"
   ]
  },
  {
   "cell_type": "code",
   "execution_count": 5,
   "metadata": {},
   "outputs": [
    {
     "name": "stdout",
     "output_type": "stream",
     "text": [
      "Prefix = *+AB-CD\n",
      "\n",
      "Iteration 1 for character D\n",
      "Stack = D  \n",
      "\n",
      "Iteration 2 for character C\n",
      "Stack = C  D  \n",
      "\n",
      "Iteration 3 for character -\n",
      "Stack = (C-D)  \n",
      "\n",
      "Iteration 4 for character B\n",
      "Stack = B  (C-D)  \n",
      "\n",
      "Iteration 5 for character A\n",
      "Stack = A  B  (C-D)  \n",
      "\n",
      "Iteration 6 for character +\n",
      "Stack = (A+B)  (C-D)  \n",
      "\n",
      "Iteration 7 for character *\n",
      "Stack = ((A+B)*(C-D))  \n",
      "\n",
      "Infix = ((A+B)*(C-D))\n"
     ]
    }
   ],
   "source": [
    "String exp = \"*+AB-CD\";\n",
    "System.out.println(\"Prefix = \" + exp);\n",
    "\n",
    "String ifx = PrefixToInfix.process(exp);\n",
    "\n",
    "System.out.println(\"\\nInfix = \" + ifx);"
   ]
  },
  {
   "cell_type": "markdown",
   "metadata": {},
   "source": [
    "Reference: \n",
    "1. [geeksforgeeks.org - Prefix to Infix conversion](https://www.geeksforgeeks.org/prefix-infix-conversion/ \"Stack Prefix to Infix conversion\")"
   ]
  },
  {
   "cell_type": "code",
   "execution_count": null,
   "metadata": {},
   "outputs": [],
   "source": []
  }
 ],
 "metadata": {
  "kernelspec": {
   "display_name": "Java",
   "language": "java",
   "name": "java"
  },
  "language_info": {
   "codemirror_mode": "java",
   "file_extension": ".jshell",
   "mimetype": "text/x-java-source",
   "name": "Java",
   "pygments_lexer": "java",
   "version": "15.0.1+9-18"
  }
 },
 "nbformat": 4,
 "nbformat_minor": 4
}
