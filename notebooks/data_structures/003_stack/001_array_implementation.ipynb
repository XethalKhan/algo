{
 "cells": [
  {
   "cell_type": "markdown",
   "metadata": {},
   "source": [
    "# Array implementation of stack\n",
    "\n",
    "Stack is a linear data structure which follows a particular order in which the operations are performed. The order may be LIFO(Last In First Out) or FILO(First In Last Out).\n",
    "\n",
    "Mainly the following are basic operations performed in the stack:\n",
    "\n",
    "1. **Push**: Adds an item in the stack. If the stack is full, then it is said to be an Overflow condition.\n",
    "2. **Pop**: Removes an item from the stack. The items are popped in the reversed order in which they are pushed. If the stack is empty, then it is said to be an Underflow condition.\n",
    "3. **Peek** or **Top**: Returns top element of stack.\n",
    "4. **isEmpty**: Returns true if stack is empty, else false.\n",
    "\n",
    "push, pop, isEmpty and peek all take $O(1)$ time. We do not run any loop in any of these operations.\n",
    "\n",
    "**Advantage**: Easy to implement. Memory is saved as pointers are not involved.  \n",
    "**Limitations**: It is not dynamic. It doesn’t grow and shrink depending on needs at runtime.\n",
    "\n",
    "### Interface for stack operations"
   ]
  },
  {
   "cell_type": "code",
   "execution_count": 1,
   "metadata": {},
   "outputs": [],
   "source": [
    "public interface StackOperations<T>{\n",
    "    public boolean push(T data);\n",
    "    public T pop();\n",
    "    public T peek();\n",
    "    public boolean isEmpty();\n",
    "}"
   ]
  },
  {
   "cell_type": "markdown",
   "metadata": {},
   "source": [
    "### Implementation"
   ]
  },
  {
   "cell_type": "code",
   "execution_count": 2,
   "metadata": {},
   "outputs": [],
   "source": [
    "public class StackArray<T> implements StackOperations<T>{\n",
    "    private T[] data;\n",
    "    private int size;\n",
    "    private int top;\n",
    "    \n",
    "    public StackArray(){\n",
    "        this.size = 10;\n",
    "        this.top = -1;\n",
    "        this.data = (T[])(new Object[10]);\n",
    "    }\n",
    "    \n",
    "    public boolean push(T data){\n",
    "        if(this.top > (this.size - 1)){\n",
    "            return false;\n",
    "        }\n",
    "        \n",
    "        this.data[++top] = data;\n",
    "        return true;\n",
    "    }\n",
    "    \n",
    "    public T pop(){\n",
    "        if(this.top < 0){\n",
    "            return null;\n",
    "        }\n",
    "        return this.data[top--];\n",
    "    }\n",
    "    \n",
    "    public T peek(){\n",
    "        if(this.top < 0){\n",
    "            return null;\n",
    "        }\n",
    "        return this.data[top];\n",
    "    }\n",
    "    \n",
    "    public boolean isEmpty(){\n",
    "        return this.top < 0;\n",
    "    }\n",
    "    \n",
    "    public String toString(){\n",
    "    \n",
    "        if(this.isEmpty()){\n",
    "            return \"Empty stack\";\n",
    "        }\n",
    "    \n",
    "        String txt = \"\";\n",
    "        for(int i = top; i >= 0; i--){\n",
    "            txt += this.data[i] + \"  \";\n",
    "        }\n",
    "        return txt;\n",
    "    }\n",
    "}"
   ]
  },
  {
   "cell_type": "markdown",
   "metadata": {},
   "source": [
    "### StackArray class usage example"
   ]
  },
  {
   "cell_type": "code",
   "execution_count": 3,
   "metadata": {},
   "outputs": [
    {
     "name": "stdout",
     "output_type": "stream",
     "text": [
      "initial setting:\tEmpty stack\n",
      "isEmpty:\t\ttrue\n",
      "push(10):\t\t10  \n",
      "push(35):\t\t35  10  \n",
      "push(27):\t\t27  35  10  \n",
      "pop() returns 27:\t35  10  \n",
      "push(100):\t\t100  35  10  \n",
      "peek():\t\t\t100\n",
      "after peek()):\t\t100  35  10  \n",
      "isEmpty:\t\tfalse\n",
      "pop() returns 100:\t35  10  \n",
      "pop() returns 35:\t10  \n"
     ]
    }
   ],
   "source": [
    "StackArray<Integer> s = new StackArray<Integer>();\n",
    "System.out.println(\"initial setting:\\t\" + s);\n",
    "\n",
    "System.out.println(\"isEmpty:\\t\\t\" + s.isEmpty());\n",
    "\n",
    "s.push(10);\n",
    "System.out.println(\"push(10):\\t\\t\" + s);\n",
    "\n",
    "s.push(35);\n",
    "System.out.println(\"push(35):\\t\\t\" + s);\n",
    "\n",
    "s.push(27);\n",
    "System.out.println(\"push(27):\\t\\t\" + s);\n",
    "\n",
    "System.out.println(\"pop() returns \" + s.pop() + \":\\t\" + s);\n",
    "\n",
    "s.push(100);\n",
    "System.out.println(\"push(100):\\t\\t\" + s);\n",
    "\n",
    "int t = s.peek();\n",
    "System.out.println(\"peek():\\t\\t\\t\" + t);\n",
    "System.out.println(\"after peek()):\\t\\t\" + s);\n",
    "\n",
    "System.out.println(\"isEmpty:\\t\\t\" + s.isEmpty());\n",
    "\n",
    "System.out.println(\"pop() returns \" + s.pop() + \":\\t\" + s);\n",
    "\n",
    "System.out.println(\"pop() returns \" + s.pop() + \":\\t\" + s);"
   ]
  },
  {
   "cell_type": "markdown",
   "metadata": {},
   "source": [
    "Reference: \n",
    "1. [geeksforgeeks.org - Stack Data Structure (Introduction)](https://www.geeksforgeeks.org/stack-data-structure-introduction-program/ \"Stack Data Structure (Introduction)\") *See part: Implementing Stack using Arrays*"
   ]
  },
  {
   "cell_type": "code",
   "execution_count": null,
   "metadata": {},
   "outputs": [],
   "source": []
  }
 ],
 "metadata": {
  "kernelspec": {
   "display_name": "Java",
   "language": "java",
   "name": "java"
  },
  "language_info": {
   "codemirror_mode": "java",
   "file_extension": ".jshell",
   "mimetype": "text/x-java-source",
   "name": "Java",
   "pygments_lexer": "java",
   "version": "15.0.1+9-18"
  }
 },
 "nbformat": 4,
 "nbformat_minor": 4
}
