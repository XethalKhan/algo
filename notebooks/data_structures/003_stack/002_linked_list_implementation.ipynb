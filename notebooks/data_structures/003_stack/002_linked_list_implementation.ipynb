{
 "cells": [
  {
   "cell_type": "markdown",
   "metadata": {},
   "source": [
    "# Linked list implementation of stack\n",
    "\n",
    "Stack is a linear data structure which follows a particular order in which the operations are performed. The order may be LIFO(Last In First Out) or FILO(First In Last Out).\n",
    "\n",
    "Mainly the following are basic operations performed in the stack:\n",
    "\n",
    "1. **Push**: Adds an item in the stack. If the stack is full, then it is said to be an Overflow condition.\n",
    "2. **Pop**: Removes an item from the stack. The items are popped in the reversed order in which they are pushed. If the stack is empty, then it is said to be an Underflow condition.\n",
    "3. **Peek** or **Top**: Returns top element of stack.\n",
    "4. **isEmpty**: Returns true if stack is empty, else false.\n",
    "\n",
    "push, pop, isEmpty and peek all take $O(1)$ time. We do not run any loop in any of these operations.\n",
    "\n",
    "**Advantage**: The linked list implementation of stack can grow and shrink according to the needs at runtime.  \n",
    "**Limitations**: Requires extra memory due to involvement of pointers.\n",
    "\n",
    "### Linked list node definition"
   ]
  },
  {
   "cell_type": "code",
   "execution_count": 5,
   "metadata": {},
   "outputs": [],
   "source": [
    "public class Node<T>{\n",
    "    \n",
    "    public T data;\n",
    "    public Node next;\n",
    "    \n",
    "    public Node(T data){\n",
    "        this.data = data;\n",
    "        this.next = null;\n",
    "    }\n",
    "    \n",
    "}"
   ]
  },
  {
   "cell_type": "markdown",
   "metadata": {},
   "source": [
    "### Interface for stack operations"
   ]
  },
  {
   "cell_type": "code",
   "execution_count": 6,
   "metadata": {},
   "outputs": [],
   "source": [
    "public interface StackOperations<T>{\n",
    "    public boolean push(T data);\n",
    "    public T pop();\n",
    "    public T peek();\n",
    "    public boolean isEmpty();\n",
    "}"
   ]
  },
  {
   "cell_type": "markdown",
   "metadata": {},
   "source": [
    "### Implementation"
   ]
  },
  {
   "cell_type": "code",
   "execution_count": 7,
   "metadata": {},
   "outputs": [],
   "source": [
    "public class StackLinkedList<T> implements StackOperations<T>{\n",
    "    private Node<T> head;\n",
    "    \n",
    "    public StackLinkedList(){\n",
    "        this.head = null;\n",
    "    }\n",
    "    \n",
    "    public boolean push(T data){\n",
    "        \n",
    "        Node<T> add = new Node<T>(data);\n",
    "        \n",
    "        if(this.head == null){\n",
    "            this.head = add;\n",
    "            return true;\n",
    "        }\n",
    "        \n",
    "        add.next = this.head;\n",
    "        this.head = add;\n",
    "        \n",
    "        return true;\n",
    "        \n",
    "    }\n",
    "    \n",
    "    public T pop(){\n",
    "        if(this.head == null){\n",
    "            return null;\n",
    "        }\n",
    "        \n",
    "        Node<T> temp = this.head;\n",
    "        \n",
    "        this.head = this.head.next;\n",
    "        \n",
    "        return temp.data;\n",
    "        \n",
    "    }\n",
    "    \n",
    "    public T peek(){\n",
    "        if(this.head == null){\n",
    "            return null;\n",
    "        }\n",
    "        \n",
    "        return this.head.data;\n",
    "    }\n",
    "    \n",
    "    public boolean isEmpty(){\n",
    "        return this.head == null;\n",
    "    }\n",
    "    \n",
    "    public String toString(){\n",
    "    \n",
    "        if(this.isEmpty()){\n",
    "            return \"Empty stack\";\n",
    "        }\n",
    "    \n",
    "        String txt = \"\";\n",
    "        \n",
    "        Node<T> loop = this.head;\n",
    "        \n",
    "        while(loop != null){\n",
    "            txt += loop.data + \"  \";\n",
    "            loop = loop.next;\n",
    "        }\n",
    "        \n",
    "        return txt;\n",
    "    }\n",
    "}"
   ]
  },
  {
   "cell_type": "markdown",
   "metadata": {},
   "source": [
    "### StackLinkedList class usage example"
   ]
  },
  {
   "cell_type": "code",
   "execution_count": 8,
   "metadata": {},
   "outputs": [
    {
     "name": "stdout",
     "output_type": "stream",
     "text": [
      "initial setting:\tEmpty stack\n",
      "isEmpty:\t\ttrue\n",
      "push(10):\t\t10  \n",
      "push(35):\t\t35  10  \n",
      "push(27):\t\t27  35  10  \n",
      "pop() returns 27:\t35  10  \n",
      "push(100):\t\t100  35  10  \n",
      "peek():\t\t\t100\n",
      "after peek():\t\t100  35  10  \n",
      "isEmpty:\t\tfalse\n",
      "pop() returns 100:\t35  10  \n",
      "pop() returns 35:\t10  \n"
     ]
    }
   ],
   "source": [
    "StackLinkedList<Integer> s = new StackLinkedList<Integer>();\n",
    "System.out.println(\"initial setting:\\t\" + s);\n",
    "\n",
    "System.out.println(\"isEmpty:\\t\\t\" + s.isEmpty());\n",
    "\n",
    "s.push(10);\n",
    "System.out.println(\"push(10):\\t\\t\" + s);\n",
    "\n",
    "s.push(35);\n",
    "System.out.println(\"push(35):\\t\\t\" + s);\n",
    "\n",
    "s.push(27);\n",
    "System.out.println(\"push(27):\\t\\t\" + s);\n",
    "\n",
    "System.out.println(\"pop() returns \" + s.pop() + \":\\t\" + s);\n",
    "\n",
    "s.push(100);\n",
    "System.out.println(\"push(100):\\t\\t\" + s);\n",
    "\n",
    "int t = s.peek();\n",
    "System.out.println(\"peek():\\t\\t\\t\" + t);\n",
    "System.out.println(\"after peek():\\t\\t\" + s);\n",
    "\n",
    "System.out.println(\"isEmpty:\\t\\t\" + s.isEmpty());\n",
    "\n",
    "System.out.println(\"pop() returns \" + s.pop() + \":\\t\" + s);\n",
    "\n",
    "System.out.println(\"pop() returns \" + s.pop() + \":\\t\" + s);"
   ]
  },
  {
   "cell_type": "markdown",
   "metadata": {},
   "source": [
    "Reference: \n",
    "1. [geeksforgeeks.org - Stack Data Structure (Introduction)](https://www.geeksforgeeks.org/stack-data-structure-introduction-program/ \"Stack Data Structure (Introduction)\") *See part: Implementing Stack using Linked List*"
   ]
  },
  {
   "cell_type": "code",
   "execution_count": null,
   "metadata": {},
   "outputs": [],
   "source": []
  }
 ],
 "metadata": {
  "kernelspec": {
   "display_name": "Java",
   "language": "java",
   "name": "java"
  },
  "language_info": {
   "codemirror_mode": "java",
   "file_extension": ".jshell",
   "mimetype": "text/x-java-source",
   "name": "Java",
   "pygments_lexer": "java",
   "version": "15.0.1+9-18"
  }
 },
 "nbformat": 4,
 "nbformat_minor": 4
}
