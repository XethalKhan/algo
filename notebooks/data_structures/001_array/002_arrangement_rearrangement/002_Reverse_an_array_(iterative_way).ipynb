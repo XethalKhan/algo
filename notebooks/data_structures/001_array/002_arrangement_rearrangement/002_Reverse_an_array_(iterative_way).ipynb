{
 "cells": [
  {
   "cell_type": "markdown",
   "metadata": {},
   "source": [
    "# Reverse an array - iterative way  \n",
    "  \n",
    "1) Initialize $start$ and $end$ indexes as $start = 0$, $end = arr.length - 1$  \n",
    "2) In a loop, swap $arr[start]$ with $arr[end]$ and change $start$ and $end$ as follows : $start = start + 1$, $end = end – 1$  \n",
    "\n",
    "`Input  : arr[] = {1, 2, 3}`  \n",
    "`Output : arr[] = {3, 2, 1}`  \n",
    "\n",
    "`Input :  arr[] = {4, 5, 1, 2}`  \n",
    "`Output : arr[] = {2, 1, 5, 4}`  \n",
    "\n",
    "**Time complexity** = $O(n)$"
   ]
  },
  {
   "cell_type": "markdown",
   "metadata": {},
   "source": [
    "### Algorithm"
   ]
  },
  {
   "cell_type": "code",
   "execution_count": 1,
   "metadata": {},
   "outputs": [],
   "source": [
    "class ReverseAlgorithm{\n",
    "\n",
    "    public static void process(int[] arr){\n",
    "        \n",
    "        int start = 0;\n",
    "        int end = arr.length - 1;\n",
    "        \n",
    "        while(start < end){\n",
    "            int temp = arr[start];\n",
    "            arr[start] = arr[end];\n",
    "            arr[end] = temp;\n",
    "            start++;\n",
    "            end--;\n",
    "        }\n",
    "        \n",
    "    }\n",
    "\n",
    "}"
   ]
  },
  {
   "cell_type": "markdown",
   "metadata": {},
   "source": [
    "### Test"
   ]
  },
  {
   "cell_type": "code",
   "execution_count": 2,
   "metadata": {},
   "outputs": [
    {
     "name": "stdout",
     "output_type": "stream",
     "text": [
      "Before:\t[4, 5, 1, 2]\n",
      "After:\t[2, 1, 5, 4]\n"
     ]
    }
   ],
   "source": [
    "import java.util.Arrays;\n",
    "\n",
    "int[] arr = {4, 5, 1, 2};\n",
    "\n",
    "System.out.println(\"Before:\\t\" + Arrays.toString(arr));\n",
    "\n",
    "ReverseAlgorithm.process(arr);\n",
    "\n",
    "System.out.println(\"After:\\t\" + Arrays.toString(arr));"
   ]
  },
  {
   "cell_type": "markdown",
   "metadata": {},
   "source": [
    "Reference: [geeksforgeeks.org - Write a program to reverse an array or string](https://www.geeksforgeeks.org/write-a-program-to-reverse-an-array-or-string/)  \n",
    "*See: Iterative way*"
   ]
  },
  {
   "cell_type": "code",
   "execution_count": null,
   "metadata": {},
   "outputs": [],
   "source": []
  }
 ],
 "metadata": {
  "kernelspec": {
   "display_name": "Java",
   "language": "java",
   "name": "java"
  },
  "language_info": {
   "codemirror_mode": "java",
   "file_extension": ".jshell",
   "mimetype": "text/x-java-source",
   "name": "Java",
   "pygments_lexer": "java",
   "version": "15.0.1+9-18"
  }
 },
 "nbformat": 4,
 "nbformat_minor": 4
}
