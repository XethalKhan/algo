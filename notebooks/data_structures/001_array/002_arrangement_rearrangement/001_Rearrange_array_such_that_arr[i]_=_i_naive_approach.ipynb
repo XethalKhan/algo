{
 "cells": [
  {
   "cell_type": "markdown",
   "metadata": {},
   "source": [
    "# Rearrange an array such that $arr[i] = i$  \n",
    "\n",
    "Given an array of elements of length $n$, ranging from $0$ to $n – 1$. All elements may not be present in the array. If the element is not present then there will be $-1$ present in the array. Rearrange the array such that $arr[i] = i$ and if $i$ is not present, display $-1$ at that place.\n",
    "\n",
    "Steps:  \n",
    "1. Navigate the numbers from $0$ to $n - 1$ (variable $i$ of for loop). - $O(n)$  \n",
    "2. For every $i$ navigate through array (variable $j$ of for loop). - $O(n)$  \n",
    "3. $if(i==a[j])$ , then replace the element at $i$ position with $a[j]$ position. - $O(1)$\n",
    "        \n",
    "**Time complexity** $= O(n^2)$\n",
    "\n",
    "### Array to rearrange"
   ]
  },
  {
   "cell_type": "code",
   "execution_count": 16,
   "metadata": {},
   "outputs": [],
   "source": [
    "int[] arr = {-1, -1, 6, 1, 9, 3, 2, -1, 4, -1};"
   ]
  },
  {
   "cell_type": "markdown",
   "metadata": {},
   "source": [
    "### Rearrangement algorithm"
   ]
  },
  {
   "cell_type": "code",
   "execution_count": 17,
   "metadata": {},
   "outputs": [],
   "source": [
    "import java.util.Arrays;\n",
    "\n",
    "public class NaiveRearrangement{\n",
    "\n",
    "    public static void process(int[] arr){\n",
    "\n",
    "        for(int i = 0; i < arr.length; i++)\n",
    "        {\n",
    "            for(int j = 0; j < arr.length; j++)\n",
    "            {\n",
    "\n",
    "                // Check is any arr[j] exists such that  arr[j] is equal to i\n",
    "                if(arr[j] == i)\n",
    "                {\n",
    "                    int temp = arr[j];\n",
    "                    arr[j] = arr[i];\n",
    "                    arr[i] = temp;\n",
    "                    \n",
    "                    System.out.println(\"Iteration \" + i + \":\\t\" + Arrays.toString(arr));\n",
    "                    \n",
    "                    break;\n",
    "                }            \n",
    "            }\n",
    "        }\n",
    "        \n",
    "    }\n",
    "\n",
    "}"
   ]
  },
  {
   "cell_type": "markdown",
   "metadata": {},
   "source": [
    "### Print rearranged array"
   ]
  },
  {
   "cell_type": "code",
   "execution_count": 18,
   "metadata": {},
   "outputs": [
    {
     "name": "stdout",
     "output_type": "stream",
     "text": [
      "Before:\t\t[-1, -1, 6, 1, 9, 3, 2, -1, 4, -1]\n",
      "Iteration 1:\t[-1, 1, 6, -1, 9, 3, 2, -1, 4, -1]\n",
      "Iteration 2:\t[-1, 1, 2, -1, 9, 3, 6, -1, 4, -1]\n",
      "Iteration 3:\t[-1, 1, 2, 3, 9, -1, 6, -1, 4, -1]\n",
      "Iteration 4:\t[-1, 1, 2, 3, 4, -1, 6, -1, 9, -1]\n",
      "Iteration 6:\t[-1, 1, 2, 3, 4, -1, 6, -1, 9, -1]\n",
      "Iteration 9:\t[-1, 1, 2, 3, 4, -1, 6, -1, -1, 9]\n",
      "After:\t\t[-1, 1, 2, 3, 4, -1, 6, -1, -1, 9]\n"
     ]
    }
   ],
   "source": [
    "System.out.println(\"Before:\\t\\t\" + Arrays.toString(arr));\n",
    "\n",
    "NaiveRearrangement.process(arr);\n",
    "\n",
    "System.out.println(\"After:\\t\\t\" + Arrays.toString(arr));"
   ]
  },
  {
   "cell_type": "markdown",
   "metadata": {},
   "source": [
    "### Bigger example"
   ]
  },
  {
   "cell_type": "code",
   "execution_count": 19,
   "metadata": {
    "scrolled": true
   },
   "outputs": [
    {
     "name": "stdout",
     "output_type": "stream",
     "text": [
      "Before:\t\t[19, 7, 0, 3, 18, 15, 12, 6, 1, 8, 11, 10, 9, 5, 13, 16, 2, 14, 17, 4]\n",
      "Iteration 0:\t[0, 7, 19, 3, 18, 15, 12, 6, 1, 8, 11, 10, 9, 5, 13, 16, 2, 14, 17, 4]\n",
      "Iteration 1:\t[0, 1, 19, 3, 18, 15, 12, 6, 7, 8, 11, 10, 9, 5, 13, 16, 2, 14, 17, 4]\n",
      "Iteration 2:\t[0, 1, 2, 3, 18, 15, 12, 6, 7, 8, 11, 10, 9, 5, 13, 16, 19, 14, 17, 4]\n",
      "Iteration 3:\t[0, 1, 2, 3, 18, 15, 12, 6, 7, 8, 11, 10, 9, 5, 13, 16, 19, 14, 17, 4]\n",
      "Iteration 4:\t[0, 1, 2, 3, 4, 15, 12, 6, 7, 8, 11, 10, 9, 5, 13, 16, 19, 14, 17, 18]\n",
      "Iteration 5:\t[0, 1, 2, 3, 4, 5, 12, 6, 7, 8, 11, 10, 9, 15, 13, 16, 19, 14, 17, 18]\n",
      "Iteration 6:\t[0, 1, 2, 3, 4, 5, 6, 12, 7, 8, 11, 10, 9, 15, 13, 16, 19, 14, 17, 18]\n",
      "Iteration 7:\t[0, 1, 2, 3, 4, 5, 6, 7, 12, 8, 11, 10, 9, 15, 13, 16, 19, 14, 17, 18]\n",
      "Iteration 8:\t[0, 1, 2, 3, 4, 5, 6, 7, 8, 12, 11, 10, 9, 15, 13, 16, 19, 14, 17, 18]\n",
      "Iteration 9:\t[0, 1, 2, 3, 4, 5, 6, 7, 8, 9, 11, 10, 12, 15, 13, 16, 19, 14, 17, 18]\n",
      "Iteration 10:\t[0, 1, 2, 3, 4, 5, 6, 7, 8, 9, 10, 11, 12, 15, 13, 16, 19, 14, 17, 18]\n",
      "Iteration 11:\t[0, 1, 2, 3, 4, 5, 6, 7, 8, 9, 10, 11, 12, 15, 13, 16, 19, 14, 17, 18]\n",
      "Iteration 12:\t[0, 1, 2, 3, 4, 5, 6, 7, 8, 9, 10, 11, 12, 15, 13, 16, 19, 14, 17, 18]\n",
      "Iteration 13:\t[0, 1, 2, 3, 4, 5, 6, 7, 8, 9, 10, 11, 12, 13, 15, 16, 19, 14, 17, 18]\n",
      "Iteration 14:\t[0, 1, 2, 3, 4, 5, 6, 7, 8, 9, 10, 11, 12, 13, 14, 16, 19, 15, 17, 18]\n",
      "Iteration 15:\t[0, 1, 2, 3, 4, 5, 6, 7, 8, 9, 10, 11, 12, 13, 14, 15, 19, 16, 17, 18]\n",
      "Iteration 16:\t[0, 1, 2, 3, 4, 5, 6, 7, 8, 9, 10, 11, 12, 13, 14, 15, 16, 19, 17, 18]\n",
      "Iteration 17:\t[0, 1, 2, 3, 4, 5, 6, 7, 8, 9, 10, 11, 12, 13, 14, 15, 16, 17, 19, 18]\n",
      "Iteration 18:\t[0, 1, 2, 3, 4, 5, 6, 7, 8, 9, 10, 11, 12, 13, 14, 15, 16, 17, 18, 19]\n",
      "Iteration 19:\t[0, 1, 2, 3, 4, 5, 6, 7, 8, 9, 10, 11, 12, 13, 14, 15, 16, 17, 18, 19]\n",
      "After:\t\t[0, 1, 2, 3, 4, 5, 6, 7, 8, 9, 10, 11, 12, 13, 14, 15, 16, 17, 18, 19]\n"
     ]
    }
   ],
   "source": [
    "int[] test = {19, 7, 0, 3, 18, 15, 12, 6, 1, 8, 11, 10, 9, 5, 13, 16, 2, 14, 17, 4};\n",
    "\n",
    "System.out.println(\"Before:\\t\\t\" + Arrays.toString(test));\n",
    "\n",
    "NaiveRearrangement.process(test);\n",
    "\n",
    "System.out.println(\"After:\\t\\t\" + Arrays.toString(test));"
   ]
  },
  {
   "cell_type": "markdown",
   "metadata": {},
   "source": [
    "Reference: [geeksforgeeks.org - Rearrange an array such that arr[i] = i](https://www.geeksforgeeks.org/rearrange-array-arri/)  \n",
    "*See: Naive Approach*"
   ]
  }
 ],
 "metadata": {
  "kernelspec": {
   "display_name": "Java",
   "language": "java",
   "name": "java"
  },
  "language_info": {
   "codemirror_mode": "java",
   "file_extension": ".jshell",
   "mimetype": "text/x-java-source",
   "name": "Java",
   "pygments_lexer": "java",
   "version": "15.0.1+9-18"
  }
 },
 "nbformat": 4,
 "nbformat_minor": 4
}
