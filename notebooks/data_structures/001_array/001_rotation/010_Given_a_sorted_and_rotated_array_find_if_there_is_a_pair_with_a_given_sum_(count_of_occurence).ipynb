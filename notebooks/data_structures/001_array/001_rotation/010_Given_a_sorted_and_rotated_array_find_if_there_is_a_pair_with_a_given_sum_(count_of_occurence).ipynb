{
 "cells": [
  {
   "cell_type": "markdown",
   "metadata": {},
   "source": [
    "# Given a sorted and rotated array, find if there is a pair with a given sum  \n",
    "  \n",
    "Given an array that is sorted and then rotated around an unknown point. Find if the array has a pair with a given sum $x$.  \n",
    "  \n",
    "It may be assumed that all elements in the array are distinct.  \n",
    "  \n",
    "This algorithm returns number of occurence of the sum found.\n",
    "  \n",
    "`Input: arr[] = {5, 6, 1, 2, 3, 4}, x = 7`  \n",
    "`Output: 3`  \n",
    "There are pairs (6, 1), (5, 2) (4, 3) with sum 7.\n",
    "  \n",
    "The idea is to first find the largest element in array which is the pivot point also and the element just after largest is the smallest element. Once we have indexes largest and smallest elements, we use similar *meet in middle algorithm* to find if there is a pair.\n",
    "Two pointers can be taken which mark the beginning and end of the array respectively. If the sum is **greater** than the sum of those two elements, shift the **left** pointer to **increase** the value of required sum and if the sum is **lesser** than the required value, shift the **right** pointer to **decrease** the value.  \n",
    "  \n",
    "`arr[] = {-8, 1, 4, 6, 10, 45}, x = 16`  \n",
    "`l = 0, r = 5`  \n",
    "`arr[l] + arr[r] (-8 + 45) > 16 => decrement r. Now r = 4`   \n",
    "`arr[l] + arr[r] (-8 + 10) increment l. Now l = 1`   \n",
    "`arr[l] + arr[r] (1 + 10) increment l. Now l = 2` \n",
    "`arr[l] + arr[r] (4 + 10) increment l. Now l = 3`  \n",
    "`arr[l] + arr[r] ( 6 + 10) == 16 => Found candidates (return true)`\n",
    "\n",
    "The only thing new here is indexes are incremented and decremented in rotational manner using modular arithmetic. To find number of occurences of the sum in array, we perform these steps:\n",
    "\n",
    "1. Find the sum of the elements pointed by both the pointers.\n",
    "2. If the sum is equal to $x$, then increment the **count**. If the sum is **less** than $x$, then to **increase** sum move the **left** pointer to next position by **incrementing** it in a rotational manner. If the sum is **greater** than $x$, then to **decrease** sum move the **right** pointer to next position by **decrementing** it in rotational manner.\n",
    "3. Repeat step 1 and 2 until the left pointer is not equal to the right pointer or until the left pointer is not equal to right pointer – 1.\n",
    "  \n",
    "**Time complexity:** $O(n)$ "
   ]
  },
  {
   "cell_type": "markdown",
   "metadata": {},
   "source": [
    "### Sortated and rotated array where search is performed"
   ]
  },
  {
   "cell_type": "code",
   "execution_count": 1,
   "metadata": {},
   "outputs": [],
   "source": [
    "int[] arr = {6, 7, 8, 9, 1, 2, 3, 4, 5};"
   ]
  },
  {
   "cell_type": "markdown",
   "metadata": {},
   "source": [
    "### Sum to search for"
   ]
  },
  {
   "cell_type": "code",
   "execution_count": 2,
   "metadata": {},
   "outputs": [],
   "source": [
    "int x = 16;"
   ]
  },
  {
   "cell_type": "markdown",
   "metadata": {},
   "source": [
    "### Perform modified binary search to find pivot point - point in sorted and rotated array where $arr[i] > arr[i + 1]$  \n",
    "This search will fail if array is not sorted and rotated. We can use modified linear search to find pivot point and check if array is rotated at the same time."
   ]
  },
  {
   "cell_type": "code",
   "execution_count": 3,
   "metadata": {},
   "outputs": [
    {
     "name": "stdout",
     "output_type": "stream",
     "text": [
      "Index of pivot point is 3\n",
      "Index right after pivot point is 4\n"
     ]
    }
   ],
   "source": [
    "int left = 0, right = arr.length - 1;\n",
    "        \n",
    "//Apply binary search to find pivot point. Only works if array is sorted and rotated.\n",
    "while(left <= right){\n",
    "    //Calculate middle index based on index range where search is performed\n",
    "    int mid = left + (right - left) / 2;\n",
    "\n",
    "    if(arr[mid] > arr[mid + 1]){\n",
    "        right = mid;\n",
    "        left = mid + 1;\n",
    "        break;\n",
    "    }\n",
    "\n",
    "    if(arr[mid] > arr[0]){\n",
    "        left = mid + 1;\n",
    "    }else{\n",
    "        right = mid - 1;\n",
    "    }\n",
    "\n",
    "}\n",
    "\n",
    "System.out.println(\"Index of pivot point is \" + right);\n",
    "System.out.println(\"Index right after pivot point is \" + left);"
   ]
  },
  {
   "cell_type": "markdown",
   "metadata": {},
   "source": [
    "### Using meet at the middle and modular arithmetic find if there are elements that make the sum $x$"
   ]
  },
  {
   "cell_type": "code",
   "execution_count": 4,
   "metadata": {},
   "outputs": [
    {
     "name": "stdout",
     "output_type": "stream",
     "text": [
      "arr[1] + arr[3] = 7 + 9 = 16\n",
      "arr[3] + arr[1] = 9 + 7 = 16\n",
      "Number of occurence of 16 is 2\n"
     ]
    }
   ],
   "source": [
    "int count = 0;\n",
    "\n",
    "while(left != right){\n",
    "        \n",
    "    int sum = arr[left] + arr[right];\n",
    "\n",
    "    if (sum == x){\n",
    "        count++;\n",
    "        \n",
    "        System.out.print(\"arr[\" + left + \"] + arr[\" + right + \"] = \");\n",
    "        System.out.println(arr[left] + \" + \" + arr[right] + \" = \" + (arr[left] + arr[right]));\n",
    "            \n",
    "        // This condition is required to be checked, otherwise left and right \n",
    "        // will cross each other and loop will never terminate. \n",
    "        if(left == (right - 1 + arr.length) % arr.length){ \n",
    "            //return count;\n",
    "            break;\n",
    "        }\n",
    "        \n",
    "        left = (left + 1) % arr.length;\n",
    "        right = (arr.length + right - 1) % arr.length;\n",
    "    }\n",
    "\n",
    "    if (sum < x){ \n",
    "        left = (left + 1) % arr.length;\n",
    "    }else{\n",
    "        right = (arr.length + right - 1) % arr.length;\n",
    "    }\n",
    "\n",
    "}\n",
    "\n",
    "System.out.println(\"Number of occurence of \" + x + \" is \" + count);"
   ]
  },
  {
   "cell_type": "markdown",
   "metadata": {},
   "source": [
    "### Putting it all together"
   ]
  },
  {
   "cell_type": "code",
   "execution_count": 5,
   "metadata": {},
   "outputs": [],
   "source": [
    "public class PairInSortedRotated{\n",
    "    public static int process(int arr[], int x){\n",
    "    \n",
    "        int left = 0, right = arr.length - 1;\n",
    "        \n",
    "        //Apply binary search to find pivot point. Only works if array is sorted and rotated.\n",
    "        while(left <= right){\n",
    "            \n",
    "            //Calculate middle index based on index range where search is performed\n",
    "            int mid = left + (right - left) / 2;\n",
    "            \n",
    "            if(arr[mid] > arr[mid + 1]){\n",
    "                right = mid;\n",
    "                left = mid + 1;\n",
    "                break;\n",
    "            }\n",
    "            \n",
    "            if(arr[mid] > arr[0]){\n",
    "                left = mid + 1;\n",
    "            }else{\n",
    "                right = mid - 1;\n",
    "            }\n",
    "        \n",
    "        }\n",
    "        \n",
    "        int count = 0;\n",
    "        \n",
    "        while(left != right){\n",
    "        \n",
    "            int sum = arr[left] + arr[right];\n",
    "\n",
    "            if (sum == x){\n",
    "                count++;\n",
    "\n",
    "                System.out.print(\"arr[\" + left + \"] + arr[\" + right + \"] = \");\n",
    "                System.out.println(arr[left] + \" + \" + arr[right] + \" = \" + (arr[left] + arr[right]));\n",
    "                \n",
    "                // This condition is required to be checked, otherwise left and right \n",
    "                // will cross each other and loop will never terminate. \n",
    "                if(left == (right - 1 + arr.length) % arr.length){ \n",
    "                    return count;\n",
    "                }\n",
    "\n",
    "                left = (left + 1) % arr.length;\n",
    "                right = (arr.length + right - 1) % arr.length;\n",
    "            }\n",
    "\n",
    "            if (sum < x){ \n",
    "                left = (left + 1) % arr.length;\n",
    "            }else{\n",
    "                right = (arr.length + right - 1) % arr.length;\n",
    "            }\n",
    "\n",
    "        }\n",
    "        \n",
    "        return count;\n",
    "    \n",
    "    }\n",
    "}"
   ]
  },
  {
   "cell_type": "markdown",
   "metadata": {},
   "source": [
    "### And testing"
   ]
  },
  {
   "cell_type": "code",
   "execution_count": 6,
   "metadata": {},
   "outputs": [
    {
     "name": "stdout",
     "output_type": "stream",
     "text": [
      "arr[6] + arr[1] = 5 + 7 = 12\n",
      "arr[1] + arr[6] = 7 + 5 = 12\n",
      "Number of occurence of 12 is 2\n"
     ]
    }
   ],
   "source": [
    "int[] test = {6, 7, 1, 2, 3, 4, 5};\n",
    "x = 12;\n",
    "\n",
    "int res = PairInSortedRotated.process(test, x);\n",
    "System.out.println(\"Number of occurence of \" + x + \" is \" + res);"
   ]
  },
  {
   "cell_type": "markdown",
   "metadata": {},
   "source": [
    "### To do\n",
    "\n",
    "Because of commutativity of addition ($a + b = b + a$), consider using hash maps to store possible combinations, so we do not count same indexes twice."
   ]
  },
  {
   "cell_type": "markdown",
   "metadata": {},
   "source": [
    "Reference: [geeksforgeeks.org - Given a sorted and rotated array, find if there is a pair with a given sum](https://www.geeksforgeeks.org/given-a-sorted-and-rotated-array-find-if-there-is-a-pair-with-a-given-sum/)  \n",
    "*See: How to count all pairs having sum x?*"
   ]
  },
  {
   "cell_type": "code",
   "execution_count": null,
   "metadata": {},
   "outputs": [],
   "source": []
  }
 ],
 "metadata": {
  "kernelspec": {
   "display_name": "Java",
   "language": "java",
   "name": "java"
  },
  "language_info": {
   "codemirror_mode": "java",
   "file_extension": ".jshell",
   "mimetype": "text/x-java-source",
   "name": "Java",
   "pygments_lexer": "java",
   "version": "15.0.1+9-18"
  }
 },
 "nbformat": 4,
 "nbformat_minor": 4
}
