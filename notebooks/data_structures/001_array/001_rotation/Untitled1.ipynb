{
 "cells": [
  {
   "cell_type": "markdown",
   "metadata": {},
   "source": [
    "# Find the Rotation Count in Sorted and Rotated array  \n",
    "  \n",
    "Consider an array $arr$ of distinct numbers sorted in increasing order. The array has been rotated (clockwise) $k$ number of times. Given such an array, find the value of $k$.  \n",
    "  \n",
    "`Input : arr[] = {15, 18, 2, 3, 6, 12}`  \n",
    "`Output: 2`  \n",
    "  \n",
    "`Input: arr[] = {7, 9, 11, 12, 15}`  \n",
    "`Output: 0`  \n",
    "  \n",
    "We can notice that the number of rotations is equal to index of minimum element. A simple linear solution is to find minimum element and returns its index. Efficent solution is to use Binary Search to find minimum element, using the fact that in sorted and rotated array, minimum element is the only element that comes after larger element of array.  \n",
    "  \n",
    "### Algorithm"
   ]
  },
  {
   "cell_type": "code",
   "execution_count": 1,
   "metadata": {},
   "outputs": [],
   "source": [
    "public class RotationCount \n",
    "{ \n",
    "    static int process(int arr[], int low, int high){ \n",
    "        // This condition is needed to handle  \n",
    "        // the case when array is not rotated  \n",
    "        // at all \n",
    "        if (high < low) \n",
    "            return 0; \n",
    "  \n",
    "        // If there is only one element left \n",
    "        if (high == low) \n",
    "            return low; \n",
    "  \n",
    "        // Find mid (low + high)/2\n",
    "        int mid = low + (high - low)/2;  \n",
    "  \n",
    "        // Check if element (mid+1) is minimum element.\n",
    "        if (mid < high && arr[mid+1] < arr[mid]) \n",
    "            return (mid + 1); \n",
    "  \n",
    "        // Check if mid itself is minimum element \n",
    "        if (mid > low && arr[mid] < arr[mid - 1]) \n",
    "            return mid; \n",
    "  \n",
    "        // Decide whether we need to go to left  \n",
    "        // half or right half \n",
    "        if (arr[high] > arr[mid]){\n",
    "            return RotationCount.process(arr, low, mid - 1);\n",
    "        }\n",
    "  \n",
    "        return RotationCount.process(arr, mid + 1, high); \n",
    "    }\n",
    "}"
   ]
  },
  {
   "cell_type": "markdown",
   "metadata": {},
   "source": [
    "### Array input"
   ]
  },
  {
   "cell_type": "code",
   "execution_count": 2,
   "metadata": {},
   "outputs": [],
   "source": [
    "int[] arr = {3, 4, 5, 6, 7, 1, 2};"
   ]
  },
  {
   "cell_type": "markdown",
   "metadata": {},
   "source": [
    "### Test"
   ]
  },
  {
   "cell_type": "code",
   "execution_count": 3,
   "metadata": {},
   "outputs": [
    {
     "name": "stdout",
     "output_type": "stream",
     "text": [
      "Number of right rotations = 5\n",
      "Number of left rotations = 2\n"
     ]
    }
   ],
   "source": [
    "int result = RotationCount.process(arr, 0, arr.length - 1);\n",
    "\n",
    "System.out.println(\"Number of right rotations = \" + result);\n",
    "System.out.println(\"Number of left rotations = \" + (arr.length - result));"
   ]
  },
  {
   "cell_type": "markdown",
   "metadata": {},
   "source": [
    "Reference: [geeksforgeeks.org - Find the Rotation Count in Rotated Sorted array](https://www.geeksforgeeks.org/find-rotation-count-rotated-sorted-array/)"
   ]
  }
 ],
 "metadata": {
  "kernelspec": {
   "display_name": "Java",
   "language": "java",
   "name": "java"
  },
  "language_info": {
   "codemirror_mode": "java",
   "file_extension": ".jshell",
   "mimetype": "text/x-java-source",
   "name": "Java",
   "pygments_lexer": "java",
   "version": "15.0.1+9-18"
  }
 },
 "nbformat": 4,
 "nbformat_minor": 4
}
