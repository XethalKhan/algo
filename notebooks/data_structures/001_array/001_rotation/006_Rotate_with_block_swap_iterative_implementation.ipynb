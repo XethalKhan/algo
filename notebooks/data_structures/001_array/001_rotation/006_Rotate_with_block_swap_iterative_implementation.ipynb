{
 "cells": [
  {
   "cell_type": "markdown",
   "metadata": {},
   "source": [
    "# Rotate elements of array with block swap - iterative implementation\n",
    "\n",
    "Rotate array **$arr$** of size **$n$** to the left **$d$** times.  \n",
    "\n",
    "Let $AB$ be the two parts of the input array where $A$ = $arr[0..d-1]$ and $B = arr[d..n-1]$. The idea of the algorithm is : \n",
    " \n",
    "1. Do following until size of $A$ is equal to size of $B$:\n",
    "\n",
    "    1. If $A$ is shorter, divide $B$ into $B_l$ and $B_r$ such that $B_r$ is of same length as $A$. Swap $A$ and $B_r$ to change $A B_l B_r$ into $B_r B_l A$. Now $A$ is at its final place, so recur on pieces of $B$.  \n",
    "\n",
    "    2. If $A$ is longer, divide $A$ into $A_l$ and $A_r$ such that $A_l$ is of same length as $B$ Swap $A_l$ and $B$ to change $A_l A_r B$ into $B A_r A_l$. Now $B$ is at its final place, so recur on pieces of $A$.\n",
    "\n",
    "2.  Finally when $A$ and $B$ are of equal size, block swap them.\n",
    "\n",
    "`Input arr[] = [1, 2, 3, 4, 5, 6, 7], d = 2`  \n",
    "\n",
    "Steps:\n",
    "\n",
    "1. $arr[] = [\\overbrace{1, 2, }^{A}\\overbrace{3, 4, 5, }^{B_l}\\overbrace{6, 7}^{B_r}] =>$\n",
    "$arr[] = [\\overbrace{6, 7, }^{B_r}\\overbrace{3, 4, 5, }^{B_l}\\overbrace{1, 2}^{A}]$\n",
    "2. $arr[] = [\\overbrace{6, 7, }^{A}\\overbrace{3, }^{B_l}\\overbrace{4, 5, }^{B_r}1, 2] =>$\n",
    "$arr[] = [\\overbrace{4, 5, }^{A}\\overbrace{3, }^{B_l}\\overbrace{6, 7, }^{B_r}1, 2]$\n",
    "3. $arr[] = [\\overbrace{4, }^{A_l}\\overbrace{5, }^{A_r}\\overbrace{3, }^{B}6, 7, 1, 2] =>$\n",
    "$arr[] = [\\overbrace{3, }^{B}\\overbrace{5, }^{A_r}\\overbrace{4, }^{A_l}6, 7, 1, 2]$ \n",
    "4. $arr[] = [3, \\overbrace{5, }^{A}\\overbrace{4, }^{B}6, 7, 1, 2] =>$\n",
    "$arr[] = [3, \\overbrace{4, }^{B}\\overbrace{5, }^{A}6, 7, 1, 2]$\n",
    "   \n",
    "**Time complexity** $ = O(n)$ \n",
    "\n",
    "### Array swapping algorithm\n",
    "\n",
    "Swap elements of array $arr$ from $fi$ index up to $fi + d$ with elements of $si$ index upto $si + d$ index."
   ]
  },
  {
   "cell_type": "code",
   "execution_count": 1,
   "metadata": {},
   "outputs": [],
   "source": [
    "class SwapAlgorithm{\n",
    "\n",
    "    public static void process(int[] arr, int fi, int si, int d){\n",
    "        \n",
    "        for(int i = 0; i<d; i++)   \n",
    "        {\n",
    "            int temp = arr[fi + i];\n",
    "            arr[fi + i] = arr[si + i];\n",
    "            arr[si + i] = temp;\n",
    "        }   \n",
    "        \n",
    "    }\n",
    "\n",
    "}"
   ]
  },
  {
   "cell_type": "markdown",
   "metadata": {},
   "source": [
    "### Create array to rotate"
   ]
  },
  {
   "cell_type": "code",
   "execution_count": 2,
   "metadata": {},
   "outputs": [],
   "source": [
    "int[] arr = {1, 2, 3, 4, 5, 6, 7};"
   ]
  },
  {
   "cell_type": "markdown",
   "metadata": {},
   "source": [
    "### Number of steps to rotate array"
   ]
  },
  {
   "cell_type": "code",
   "execution_count": 3,
   "metadata": {},
   "outputs": [],
   "source": [
    "int d = 2;"
   ]
  },
  {
   "cell_type": "markdown",
   "metadata": {},
   "source": [
    "### Recursive function definition for array rotation"
   ]
  },
  {
   "cell_type": "code",
   "execution_count": 4,
   "metadata": {},
   "outputs": [],
   "source": [
    "import java.util.Arrays;\n",
    "\n",
    "public class ArrayRotation{\n",
    "\n",
    "    public static void process(int[] arr, int d)\n",
    "    {   \n",
    "    \n",
    "        int i, j;\n",
    "        \n",
    "        if(d > arr.length){\n",
    "            d %= arr.length;\n",
    "        }\n",
    "        \n",
    "        //Return if number of elements to be rotated is zero or equal to array size\n",
    "        if(d == 0 || d == arr.length){\n",
    "            return;\n",
    "        }\n",
    "        \n",
    "        i = d;\n",
    "        j = arr.length - d;\n",
    "        \n",
    "        while (i != j){\n",
    "            \n",
    "            System.out.print(Arrays.toString(arr));\n",
    "            \n",
    "            //If A is shorter  \n",
    "            if(i < j){\n",
    "                SwapAlgorithm.process(arr, d-i, d+j-i, i);\n",
    "                j -= i;\n",
    "            }\n",
    "            else //If B is shorter*\n",
    "            {\n",
    "                SwapAlgorithm.process(arr, d-i, d, j);\n",
    "                i -= j;\n",
    "            }\n",
    "            \n",
    "            System.out.println(\" => \" + Arrays.toString(arr));\n",
    "            \n",
    "        }\n",
    "        \n",
    "        System.out.print(Arrays.toString(arr));\n",
    "        \n",
    "        // Finally, block swap A and B\n",
    "        SwapAlgorithm.process(arr, d-i, d, i);\n",
    "        \n",
    "        System.out.println(\" => \" + Arrays.toString(arr));\n",
    "        \n",
    "    }\n",
    "\n",
    "}"
   ]
  },
  {
   "cell_type": "markdown",
   "metadata": {},
   "source": [
    "### Rotate array"
   ]
  },
  {
   "cell_type": "code",
   "execution_count": 5,
   "metadata": {},
   "outputs": [
    {
     "name": "stdout",
     "output_type": "stream",
     "text": [
      "Initial array:\t[1, 2, 3, 4, 5, 6, 7]; d = 2\n",
      "\n",
      "[1, 2, 3, 4, 5, 6, 7] => [6, 7, 3, 4, 5, 1, 2]\n",
      "[6, 7, 3, 4, 5, 1, 2] => [4, 5, 3, 6, 7, 1, 2]\n",
      "[4, 5, 3, 6, 7, 1, 2] => [3, 5, 4, 6, 7, 1, 2]\n",
      "[3, 5, 4, 6, 7, 1, 2] => [3, 4, 5, 6, 7, 1, 2]\n",
      "\n",
      "After rotation:\t[3, 4, 5, 6, 7, 1, 2]\n",
      "\n"
     ]
    }
   ],
   "source": [
    "import java.util.Arrays;\n",
    "System.out.println(\"Initial array:\\t\" + Arrays.toString(arr) + \"; d = \" + d + \"\\n\");\n",
    "\n",
    "ArrayRotation.process(arr, d);\n",
    "\n",
    "System.out.println(\"\\nAfter rotation:\\t\" + Arrays.toString(arr) + \"\\n\");"
   ]
  },
  {
   "cell_type": "markdown",
   "metadata": {},
   "source": [
    "Reference: [geeksforgeeks.org - Block swap algorithm for array rotation](https://www.geeksforgeeks.org/block-swap-algorithm-for-array-rotation/ \"Block swap algorithm for array rotation\")  \n",
    "*See: Iterative implementation*"
   ]
  }
 ],
 "metadata": {
  "kernelspec": {
   "display_name": "Java",
   "language": "java",
   "name": "java"
  },
  "language_info": {
   "codemirror_mode": "java",
   "file_extension": ".jshell",
   "mimetype": "text/x-java-source",
   "name": "Java",
   "pygments_lexer": "java",
   "version": "15.0.1+9-18"
  }
 },
 "nbformat": 4,
 "nbformat_minor": 4
}
