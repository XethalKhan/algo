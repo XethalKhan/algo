{
 "cells": [
  {
   "cell_type": "markdown",
   "metadata": {},
   "source": [
    "# Rotate elements of array to the left using temporary array\n",
    "\n",
    "Rotate array **$arr$** of size **$n$** to the left **$d$** times.\n",
    "\n",
    "`Input arr[] = [1, 2, 3, 4, 5, 6, 7], d = 2`\n",
    "1. Store the first **$d$** elements in a temp array  \n",
    "   `temp[] = [1, 2]`\n",
    "2. Shift rest of the **$arr$**  \n",
    "   `arr[] = [3, 4, 5, 6, 7, 6, 7]`\n",
    "3. Store back the **$d$** elements  \n",
    "   `arr[] = [3, 4, 5, 6, 7, 1, 2]`  \n",
    "   \n",
    "**Time complexity** $ = O(n)$  \n",
    "**Auxiliary space** $ = O(d)$\n",
    "\n",
    "### Create array to rotate"
   ]
  },
  {
   "cell_type": "code",
   "execution_count": 1,
   "metadata": {},
   "outputs": [],
   "source": [
    "int[] arr = {1, 2, 3, 4, 5, 6, 7};"
   ]
  },
  {
   "cell_type": "markdown",
   "metadata": {},
   "source": [
    "### Number of steps to rotate array"
   ]
  },
  {
   "cell_type": "code",
   "execution_count": 2,
   "metadata": {},
   "outputs": [],
   "source": [
    "int d = 2;"
   ]
  },
  {
   "cell_type": "markdown",
   "metadata": {},
   "source": [
    "### Rotate array"
   ]
  },
  {
   "cell_type": "code",
   "execution_count": 3,
   "metadata": {},
   "outputs": [],
   "source": [
    "//1. store the first d elements in a temp array\n",
    "int[] temp = new int[d];\n",
    "        \n",
    "for(int i = 0; i < d; i++){\n",
    "    temp[i] = arr[i];\n",
    "}\n",
    "\n",
    "//2. Shift rest of the arr\n",
    "for(int i = d; i < arr.length; i++){\n",
    "    arr[i - d] = arr[i];\n",
    "}\n",
    "\n",
    "//3. Store back the d elements\n",
    "for(int i = 0; i < d; i++){\n",
    "    arr[arr.length - d + i] = temp[i];\n",
    "}"
   ]
  },
  {
   "cell_type": "markdown",
   "metadata": {},
   "source": [
    "### Print rotated array"
   ]
  },
  {
   "cell_type": "code",
   "execution_count": 4,
   "metadata": {},
   "outputs": [
    {
     "data": {
      "text/plain": [
       "[3, 4, 5, 6, 7, 1, 2]"
      ]
     },
     "execution_count": 4,
     "metadata": {},
     "output_type": "execute_result"
    }
   ],
   "source": [
    "import java.util.Arrays;\n",
    "Arrays.toString(arr);"
   ]
  },
  {
   "cell_type": "markdown",
   "metadata": {},
   "source": [
    "Reference: [geeksforgeeks.org - Array rotation](https://www.geeksforgeeks.org/array-rotation/ \"Array rotation, method 1\")  \n",
    "*See: METHOD 1 (Using temp array)*"
   ]
  },
  {
   "cell_type": "code",
   "execution_count": null,
   "metadata": {},
   "outputs": [],
   "source": []
  }
 ],
 "metadata": {
  "kernelspec": {
   "display_name": "Java",
   "language": "java",
   "name": "java"
  },
  "language_info": {
   "codemirror_mode": "java",
   "file_extension": ".jshell",
   "mimetype": "text/x-java-source",
   "name": "Java",
   "pygments_lexer": "java",
   "version": "15.0.1+9-18"
  }
 },
 "nbformat": 4,
 "nbformat_minor": 4
}
