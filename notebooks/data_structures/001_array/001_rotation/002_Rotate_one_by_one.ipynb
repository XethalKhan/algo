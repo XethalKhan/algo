{
 "cells": [
  {
   "cell_type": "markdown",
   "metadata": {},
   "source": [
    "# Rotate elements of array to the left one by one\n",
    "\n",
    "Rotate array **$arr$** of size **$n$** to the left **$d$** times.\n",
    "\n",
    "`Input arr[] = [1, 2, 3, 4, 5, 6, 7], d = 2`  \n",
    "  \n",
    "`for i = 0, i < d \n",
    "    left rotate all elements of arr by one`\n",
    "\n",
    "Iterations:\n",
    "1. `arr[] = [2, 3, 4, 5, 6, 7, 1]` \n",
    "2. `arr[] = [3, 4, 5, 6, 7, 1, 2]` \n",
    "   \n",
    "**Time complexity** $ = O(n * d)$  \n",
    "**Auxiliary space** $ = O(1)$\n",
    "\n",
    "### Create array to rotate"
   ]
  },
  {
   "cell_type": "code",
   "execution_count": 1,
   "metadata": {},
   "outputs": [],
   "source": [
    "int[] arr = {1, 2, 3, 4, 5, 6, 7};"
   ]
  },
  {
   "cell_type": "markdown",
   "metadata": {},
   "source": [
    "### Number of steps to rotate array"
   ]
  },
  {
   "cell_type": "code",
   "execution_count": 2,
   "metadata": {},
   "outputs": [],
   "source": [
    "int d = 2;"
   ]
  },
  {
   "cell_type": "markdown",
   "metadata": {},
   "source": [
    "### Rotate array"
   ]
  },
  {
   "cell_type": "code",
   "execution_count": 3,
   "metadata": {},
   "outputs": [],
   "source": [
    "for(int i = 0; i < d; i++){\n",
    "    //1. temporary variable that holds first element of array\n",
    "    int temp = arr[0];\n",
    "    \n",
    "    //2. shift all elements to the left by one\n",
    "    for(int k = 1; k < arr.length; k++){\n",
    "        arr[k - 1] = arr[k];\n",
    "    }\n",
    "    \n",
    "    //3. add temp element to the last position of array\n",
    "    arr[arr.length - 1] = temp;\n",
    "}"
   ]
  },
  {
   "cell_type": "markdown",
   "metadata": {},
   "source": [
    "### Print rotated array"
   ]
  },
  {
   "cell_type": "code",
   "execution_count": 4,
   "metadata": {},
   "outputs": [
    {
     "data": {
      "text/plain": [
       "[3, 4, 5, 6, 7, 1, 2]"
      ]
     },
     "execution_count": 4,
     "metadata": {},
     "output_type": "execute_result"
    }
   ],
   "source": [
    "import java.util.Arrays;\n",
    "Arrays.toString(arr);"
   ]
  },
  {
   "cell_type": "markdown",
   "metadata": {},
   "source": [
    "Reference: [geeksforgeeks.org - Array rotation](https://www.geeksforgeeks.org/array-rotation/ \"Array rotation, method 2\")  \n",
    "*See: METHOD 2 (Rotate one by one)*"
   ]
  },
  {
   "cell_type": "code",
   "execution_count": null,
   "metadata": {},
   "outputs": [],
   "source": []
  }
 ],
 "metadata": {
  "kernelspec": {
   "display_name": "Java",
   "language": "java",
   "name": "java"
  },
  "language_info": {
   "codemirror_mode": "java",
   "file_extension": ".jshell",
   "mimetype": "text/x-java-source",
   "name": "Java",
   "pygments_lexer": "java",
   "version": "15.0.1+9-18"
  }
 },
 "nbformat": 4,
 "nbformat_minor": 4
}
