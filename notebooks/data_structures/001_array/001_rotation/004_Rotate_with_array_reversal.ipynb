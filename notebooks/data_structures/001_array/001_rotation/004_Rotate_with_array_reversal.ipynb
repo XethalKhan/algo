{
 "cells": [
  {
   "cell_type": "markdown",
   "metadata": {},
   "source": [
    "# Rotate elements of array with array reversal\n",
    "\n",
    "Rotate array **$arr$** of size **$n$** to the left **$d$** times.  \n",
    "\n",
    "Let $AB$ be the two parts of the input array where $A$ = $arr[0..d-1]$ and $B = arr[d..n-1]$. The idea of the algorithm is : \n",
    " \n",
    "1. Reverse $A$ to get $A'B$, where $A'$ is reverse of $A$.\n",
    "2. Reverse $B$ to get $A'B'$, where $B'$ is reverse of $B$.\n",
    "3. Reverse all to get $(A'B')' = BA$.\n",
    "\n",
    "`Input arr[] = [1, 2, 3, 4, 5, 6, 7], d = 2`  \n",
    "  \n",
    "`reverse(arr, 0, d - 1)\n",
    " reverse(arr, d, n - 1)\n",
    " reverse(arr, 0, n - 1)`\n",
    "\n",
    "Steps:\n",
    "1. `arr[] = [2, 1, 3, 4, 5, 6, 7]` \n",
    "2. `arr[] = [2, 1, 7, 6, 5, 4, 3]` \n",
    "3. `arr[] = [3, 4, 5, 6, 7, 1, 2]` \n",
    "   \n",
    "**Time complexity** $ = O(n)$ \n",
    "\n",
    "### Array reversal algorithm\n",
    "\n",
    "Reverse array **$arr$** from **$start$** index to **$end$** index."
   ]
  },
  {
   "cell_type": "code",
   "execution_count": 1,
   "metadata": {},
   "outputs": [],
   "source": [
    "class ReverseAlgorithm{\n",
    "\n",
    "    public static void process(int[] arr, int start, int end){\n",
    "        \n",
    "        while(start < end){\n",
    "            int temp = arr[start];\n",
    "            arr[start] = arr[end];\n",
    "            arr[end] = temp;\n",
    "            start++;\n",
    "            end--;\n",
    "        }\n",
    "        \n",
    "    }\n",
    "\n",
    "}"
   ]
  },
  {
   "cell_type": "markdown",
   "metadata": {},
   "source": [
    "### Create array to rotate"
   ]
  },
  {
   "cell_type": "code",
   "execution_count": 2,
   "metadata": {},
   "outputs": [],
   "source": [
    "int[] arr = {1, 2, 3, 4, 5, 6, 7};"
   ]
  },
  {
   "cell_type": "markdown",
   "metadata": {},
   "source": [
    "### Number of steps to rotate array"
   ]
  },
  {
   "cell_type": "code",
   "execution_count": 3,
   "metadata": {},
   "outputs": [],
   "source": [
    "int d = 2;"
   ]
  },
  {
   "cell_type": "markdown",
   "metadata": {},
   "source": [
    "### Rotate array"
   ]
  },
  {
   "cell_type": "code",
   "execution_count": 4,
   "metadata": {},
   "outputs": [
    {
     "name": "stdout",
     "output_type": "stream",
     "text": [
      "Initial array:\t\t\t\t[1, 2, 3, 4, 5, 6, 7]\n",
      "After reversal reverse(arr, 0, d - 1):\t[2, 1, 3, 4, 5, 6, 7]\n",
      "After reversal reverse(arr, d, n - 1):\t[2, 1, 7, 6, 5, 4, 3]\n",
      "After reversal reverse(arr, 0, n - 1):\t[3, 4, 5, 6, 7, 1, 2]\n"
     ]
    }
   ],
   "source": [
    "import java.util.Arrays;\n",
    "System.out.println(\"Initial array:\\t\\t\\t\\t\" + Arrays.toString(arr));\n",
    "\n",
    "ReverseAlgorithm.process(arr, 0, d - 1);\n",
    "\n",
    "System.out.println(\"After reversal reverse(arr, 0, d - 1):\\t\" + Arrays.toString(arr));\n",
    "\n",
    "ReverseAlgorithm.process(arr, d, arr.length - 1);\n",
    "\n",
    "System.out.println(\"After reversal reverse(arr, d, n - 1):\\t\" + Arrays.toString(arr));\n",
    "\n",
    "ReverseAlgorithm.process(arr, 0, arr.length - 1);\n",
    "\n",
    "System.out.println(\"After reversal reverse(arr, 0, n - 1):\\t\" + Arrays.toString(arr));"
   ]
  },
  {
   "cell_type": "markdown",
   "metadata": {},
   "source": [
    "Reference: [geeksforgeeks.org - Reversal algorithm for array rotation](https://www.geeksforgeeks.org/program-for-array-rotation-continued-reversal-algorithm/ \"Reversal algorithm for array rotation\")"
   ]
  },
  {
   "cell_type": "code",
   "execution_count": null,
   "metadata": {},
   "outputs": [],
   "source": []
  }
 ],
 "metadata": {
  "kernelspec": {
   "display_name": "Java",
   "language": "java",
   "name": "java"
  },
  "language_info": {
   "codemirror_mode": "java",
   "file_extension": ".jshell",
   "mimetype": "text/x-java-source",
   "name": "Java",
   "pygments_lexer": "java",
   "version": "15.0.1+9-18"
  }
 },
 "nbformat": 4,
 "nbformat_minor": 4
}
