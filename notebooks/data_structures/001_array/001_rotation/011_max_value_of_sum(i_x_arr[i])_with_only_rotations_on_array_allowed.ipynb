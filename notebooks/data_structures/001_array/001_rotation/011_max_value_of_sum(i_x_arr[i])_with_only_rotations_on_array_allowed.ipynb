{
 "cells": [
  {
   "cell_type": "markdown",
   "metadata": {},
   "source": [
    "# Find maximum value of $sum(i*arr[i])$ with only rotations on given array allowed\n",
    "  \n",
    "Given an array, only rotation operation is allowed on array. We can rotate the array as many times as we want. Return the maximum possbile of summation of $i*arr[i]$.  \n",
    "  \n",
    "`Input: arr[] = {1, 20, 2, 10}`  \n",
    "`Output: 72`  \n",
    "We get 72 by rotating array twice. $\\{2, 10, 1, 20\\} = 20*3 + 1*2 + 10*1 + 2*0 = 72$  \n",
    "  \n",
    "Let $R_j$ be value of $i*arr[i]$ with $j$ rotations. The idea is to calculate next rotation value from previous rotation, i.e., calculate $R_j$ from $R_{j-1}$. We can calculate initial value of result as $R_0$, then keep calculating next rotation values. \n",
    "  \n",
    "**Time complexity:** $O(n)$  \n",
    "**Space complexity:** $O(1)$ \n",
    "    \n",
    "### How to efficiently calculate $R_j$ from $R_{j-1}$?  \n",
    "This can be done in $O(1)$ time. Below are details.  \n",
    "  \n",
    "Let us calculate initial value of $i*arr[i]$ with no rotation $R_0 = 0*arr[0] + 1*arr[1] + . . . + (n-1)*arr[n-1]$  \n",
    "  \n",
    "After $1$ rotation $arr[n-1]$, becomes first element of array, $arr[0]$ becomes second element, $arr[1]$ becomes third element\n",
    "and so on.  \n",
    "  \n",
    "$R_1 = 0*arr[n-1] + 1*arr[0] + . . . + (n-1)*arr[n-2]$ \n",
    "\n",
    "$R_1 - R_0 = arr[0] + arr[1] + . . . + arr[n-2] - (n-1)*arr[n-1]$  \n",
    "  \n",
    "After $2$ rotations $arr[n-2]$, becomes first element of array, $arr[n-1]$ becomes second element, $arr[0]$ becomes third element and so on.  \n",
    "  \n",
    "$R_2 = 0*arr[n-2] + 1*arr[n-1] + . . . + (n-1)*arr[n-3]$  \n",
    "  \n",
    "$R_2 - R_1 = arr[0] + arr[1] + . . . + arr[n-3] - (n-1)*arr[n-2] + arr[n-1]$  \n",
    "  \n",
    "If we take a closer look at above values, we can observe below pattern  \n",
    "  \n",
    "$R_j - R_{j-1} = arrSum - n * arr[n-j]$  \n",
    "\n",
    "Where $arrSum = \\displaystyle\\sum_{o\\le i\\le n - 1} arr[i]$  \n",
    "  \n",
    "### Proof that $R_j - R_{j-1} = arrSum - n * arr[n-j]$ by mathematical induction  \n",
    "  \n",
    "For $1 \\leq j \\lt n$ where $n = arr.length$  \n",
    "  \n",
    "$R_j = 0 \\times arr[n - j] + 1 \\times arr[n - j + 1] + 2 \\times arr[n - j + 2] + . . . + (j - 1) \\times arr[n - 1] + j \\times arr[0] + (j + 1) \\times arr[1] + (j + 2) \\times arr[2] + . . . + (n - 1) \\times arr[n - j - 1]$  \n",
    "  \n",
    "$R_{j - 1} = 0 \\times arr[n - j + 1] + 1 \\times arr[n - j + 2] + 2 \\times arr[n - j + 3] + . . . + (j - 2) \\times arr[n - 1] + (j - 1) \\times arr[0] + j \\times arr[1] + (j + 1) \\times arr[2] + . . . + (n - 1) \\times arr[n - j]$  \n",
    "  \n",
    "$R_j - R_{j - 1} =$  \n",
    "$0 \\times arr[n - j] + 1 \\times arr[n - j + 1] + 2 \\times arr[n - j + 2] + . . . + (j - 1) \\times arr[n - 1] + j \\times arr[0] + (j + 1) \\times arr[1] + (j + 2) \\times arr[2] + . . . + (n - 1) \\times arr[n - j - 1]$  \n",
    "$- \\{0 \\times arr[n - j + 1] + 1 \\times arr[n - j + 2] + 2 \\times arr[n - j + 3] + . . . + (j - 2) \\times arr[n - 1] + (j - 1) \\times arr[0] + j \\times arr[1] + (j + 1) \\times arr[2] + . . . + (n - 1) \\times arr[n - j]\\}$  \n",
    "$= 1 \\times arr[n - j + 1] + (2 - 1) \\times arr[n - j + 2] + (3 - 2) \\times arr[n - j + 3] + . . . + ((j - 1) - (j - 2)) \\times arr[n - 1] + (j - (j - 1)) \\times arr[0] + ((j + 1) - j) \\times arr[1] + ((j + 2) - (j + 1)) \\times arr[2] + . . . + ((n - 1) - (n - 2)) \\times arr[n - j - 1] - (n - 1) \\times arr[n - j]$  \n",
    "$= 1 \\times arr[n - j + 1] + 1 \\times arr[n - j + 2] + 1 \\times arr[n - j + 3] + . . . + 1 \\times arr[n - 1] + 1 \\times arr[0] + 1 \\times arr[1] + 1 \\times arr[2] + . . . + 1 \\times arr[n - j - 1] - (n - 1) \\times arr[n - j]$  \n",
    "$= arr[n - j + 1] + arr[n - j + 2] +  arr[n - j + 3] + . . . +  arr[n - 1] +  arr[0] +  arr[1] +  arr[2] + . . . +  arr[n - j - 1] - (n - 1) \\times arr[n - j]$  \n",
    "$= \\{arr[0] +  arr[1] +  arr[2] + . . . +  arr[n - j - 1] + arr[n - j] + arr[n - j + 1] + arr[n - j + 2] +  arr[n - j + 3] + . . . +  arr[n - 1]\\} - n \\times arr[n - j]$  \n",
    "$= \\displaystyle\\sum_{o\\le i\\le n - 1} arr[i] - n \\times arr[n - j]$\n",
    "  \n",
    "### Algorithm  \n",
    "  \n",
    "1. Compute sum of all array elements. Let this sum be $arrSum$.  \n",
    "2. Compute $R_0$ by doing $i * arr[i]$ for given array. Let this value be $currVal$.\n",
    "3. Initialize result: $maxVal = currVal$ // maxVal is result.  \n",
    "// This loop computes $R_j$ from  $R_{j-1}$ \n",
    "4. Do following for $j = 1 \\text{ to } n-1$\n",
    "    1. $currVal = currVal + arrSum - n * arr[n - j]$\n",
    "    2. If ($currVal > maxVal$)  \n",
    "        $maxVal = currVal$   \n",
    "5. Return $maxVal$  \n",
    "  \n",
    "### Code  "
   ]
  },
  {
   "cell_type": "code",
   "execution_count": 1,
   "metadata": {},
   "outputs": [],
   "source": [
    "public static class MaxSum{\n",
    "    public static int process(int[] arr) \n",
    "    { \n",
    "        // Find array sum and i*arr[i] with no rotation \n",
    "        int arrSum = 0;  // Stores sum of arr[i] \n",
    "        int currVal = 0;  // Stores sum of i*arr[i] \n",
    "        for (int i=0; i < arr.length; i++) \n",
    "        { \n",
    "            arrSum = arrSum + arr[i]; \n",
    "            currVal = currVal+(i*arr[i]); \n",
    "        } \n",
    "\n",
    "        // Initialize result as 0 rotation sum \n",
    "        int maxVal = currVal; \n",
    "\n",
    "        // Try all rotations one by one and find \n",
    "        // the maximum rotation sum. \n",
    "        for (int j=1; j < arr.length; j++) \n",
    "        { \n",
    "            currVal = currVal + arrSum - arr.length * arr[arr.length-j]; \n",
    "            if (currVal > maxVal) \n",
    "                maxVal = currVal; \n",
    "        } \n",
    "\n",
    "        // Return result \n",
    "        return maxVal; \n",
    "    } \n",
    "}"
   ]
  },
  {
   "cell_type": "markdown",
   "metadata": {},
   "source": [
    "### Test"
   ]
  },
  {
   "cell_type": "code",
   "execution_count": 2,
   "metadata": {},
   "outputs": [
    {
     "name": "stdout",
     "output_type": "stream",
     "text": [
      "Maximum sum based on rotations is: 330\r\n"
     ]
    }
   ],
   "source": [
    "int[] arr = {10, 1, 2, 3, 4, 5, 6, 7, 8, 9};\n",
    "\n",
    "int res = MaxSum.process(arr);\n",
    "\n",
    "System.out.println(\"Maximum sum based on rotations is: \" + res);"
   ]
  },
  {
   "cell_type": "markdown",
   "metadata": {},
   "source": [
    "Reference: [geeksforgeeks.org - Find maximum value of Sum( i*arr[i]) with only rotations on given array allowed](https://www.geeksforgeeks.org/find-maximum-value-of-sum-iarri-with-only-rotations-on-given-array-allowed/)"
   ]
  }
 ],
 "metadata": {
  "kernelspec": {
   "display_name": "Java",
   "language": "java",
   "name": "java"
  },
  "language_info": {
   "codemirror_mode": "java",
   "file_extension": ".jshell",
   "mimetype": "text/x-java-source",
   "name": "Java",
   "pygments_lexer": "java",
   "version": "15.0.1+9-18"
  }
 },
 "nbformat": 4,
 "nbformat_minor": 4
}
