{
 "cells": [
  {
   "cell_type": "markdown",
   "metadata": {},
   "source": [
    "# Given a sorted and rotated array, find if there is a pair with a given sum  \n",
    "  \n",
    "Given an array that is sorted and then rotated around an unknown point. Find if the array has a pair with a given sum $x$.  \n",
    "  \n",
    "It may be assumed that all elements in the array are distinct.  \n",
    "  \n",
    "This algorithm returns true/false, based on first occurence of sum found.\n",
    "  \n",
    "`Input: arr[] = {11, 15, 6, 8, 9, 10}, x = 16`  \n",
    "`Output: true`  \n",
    "There is a pair (6, 10) with sum 16  \n",
    "  \n",
    "`Input: arr[] = {11, 15, 26, 38, 9, 10}, x = 35`  \n",
    "`Output: true`  \n",
    "There is a pair (26, 9) with sum 35  \n",
    "\n",
    "`Input: arr[] = {11, 15, 26, 38, 9, 10}, x = 45`  \n",
    "`Output: false`  \n",
    "There is no pair with sum 45.  \n",
    "  \n",
    "The idea is to first find the largest element in array which is the pivot point also and the element just after largest is the smallest element. Once we have indexes largest and smallest elements, we use similar *meet in middle algorithm* to find if there is a pair.\n",
    "Two pointers can be taken which mark the beginning and end of the array respectively. If the sum is **greater** than the sum of those two elements, shift the **left** pointer to **increase** the value of required sum and if the sum is **lesser** than the required value, shift the **right** pointer to **decrease** the value.  \n",
    "  \n",
    "`arr[] = {-8, 1, 4, 6, 10, 45}, x = 16`  \n",
    "`l = 0, r = 5`  \n",
    "`arr[l] + arr[r] (-8 + 45) > 16 => decrement r. Now r = 4`   \n",
    "`arr[l] + arr[r] (-8 + 10) increment l. Now l = 1`   \n",
    "`arr[l] + arr[r] (1 + 10) increment l. Now l = 2` \n",
    "`arr[l] + arr[r] (4 + 10) increment l. Now l = 3`  \n",
    "`arr[l] + arr[r] ( 6 + 10) == 16 => Found candidates (return true)`\n",
    "\n",
    "The only thing new here is indexes are incremented and decremented in rotational manner using modular arithmetic.  \n",
    "  \n",
    "**Time complexity:** $O(n)$"
   ]
  },
  {
   "cell_type": "markdown",
   "metadata": {},
   "source": [
    "### Sortated and rotated array where search is performed"
   ]
  },
  {
   "cell_type": "code",
   "execution_count": 1,
   "metadata": {},
   "outputs": [],
   "source": [
    "int[] arr = {6, 7, 8, 9, 1, 2, 3, 4, 5};"
   ]
  },
  {
   "cell_type": "markdown",
   "metadata": {},
   "source": [
    "### Sum to search for"
   ]
  },
  {
   "cell_type": "code",
   "execution_count": 2,
   "metadata": {},
   "outputs": [],
   "source": [
    "int x = 16;"
   ]
  },
  {
   "cell_type": "markdown",
   "metadata": {},
   "source": [
    "### Perform modified binary search to find pivot point - point in sorted and rotated array where $arr[i] > arr[i + 1}$  \n",
    "This search will fail if array is not sorted and rotated. We can use modified linear search to find pivot point and check if array is rotated at the same time."
   ]
  },
  {
   "cell_type": "code",
   "execution_count": 3,
   "metadata": {},
   "outputs": [
    {
     "name": "stdout",
     "output_type": "stream",
     "text": [
      "Index of pivot point is 3\n",
      "Index right after pivot point is 4\n"
     ]
    }
   ],
   "source": [
    "int left = 0, right = arr.length - 1;\n",
    "        \n",
    "//Apply binary search to find pivot point. Only works if array is sorted and rotated.\n",
    "while(left <= right){\n",
    "    \n",
    "    //Calculate middle index based on index range where search is performed\n",
    "    int mid = left + (right - left) / 2;\n",
    "\n",
    "    if(arr[mid] > arr[mid + 1]){\n",
    "        right = mid;\n",
    "        left = mid + 1;\n",
    "        break;\n",
    "    }\n",
    "\n",
    "    if(arr[mid] > arr[0]){\n",
    "        left = mid + 1;\n",
    "    }else{\n",
    "        right = mid - 1;\n",
    "    }\n",
    "\n",
    "}\n",
    "\n",
    "System.out.println(\"Index of pivot point is \" + right);\n",
    "System.out.println(\"Index right after pivot point is \" + left);"
   ]
  },
  {
   "cell_type": "markdown",
   "metadata": {},
   "source": [
    "### Using meet at the middle and modular arithmetic find if there are elements that make the sum $x$"
   ]
  },
  {
   "cell_type": "code",
   "execution_count": 4,
   "metadata": {},
   "outputs": [
    {
     "name": "stdout",
     "output_type": "stream",
     "text": [
      "arr[1] = 7\n",
      "arr[3] = 9\n",
      "Sum is 16\n"
     ]
    }
   ],
   "source": [
    "boolean found = false;\n",
    "\n",
    "while(left != right){\n",
    "        \n",
    "    int sum = arr[left] + arr[right];\n",
    "\n",
    "    if (sum == x){\n",
    "        found = true;\n",
    "        break;\n",
    "    }\n",
    "\n",
    "    if (sum < x){ \n",
    "        left = (left + 1) % arr.length;\n",
    "    }else{\n",
    "        right = (arr.length + right - 1) % arr.length;\n",
    "    }\n",
    "\n",
    "}\n",
    "\n",
    "if(found){\n",
    "    System.out.println(\"arr[\" + left + \"] = \" + arr[left]);\n",
    "    System.out.println(\"arr[\" + right + \"] = \" + arr[right]);\n",
    "    System.out.println(\"Sum is \" + (arr[left] + arr[right]));\n",
    "}"
   ]
  },
  {
   "cell_type": "markdown",
   "metadata": {},
   "source": [
    "### Putting it all together"
   ]
  },
  {
   "cell_type": "code",
   "execution_count": 5,
   "metadata": {},
   "outputs": [],
   "source": [
    "public class PairInSortedRotated{\n",
    "    public static boolean process(int arr[], int x){\n",
    "    \n",
    "        int left = 0, right = arr.length - 1;\n",
    "        \n",
    "        //Apply binary search to find pivot point. Only works if array is sorted and rotated.\n",
    "        while(left <= right){\n",
    "            //Calculate middle index based on index range where search is performed\n",
    "            int mid = left + (right - left) / 2;\n",
    "            \n",
    "            if(arr[mid] > arr[mid + 1]){\n",
    "                right = mid;\n",
    "                left = mid + 1;\n",
    "                break;\n",
    "            }\n",
    "            \n",
    "            if(arr[mid] > arr[0]){\n",
    "                left = mid + 1;\n",
    "            }else{\n",
    "                right = mid - 1;\n",
    "            }\n",
    "        \n",
    "        }\n",
    "        \n",
    "        while(left != right){\n",
    "        \n",
    "            int sum = arr[left] + arr[right];\n",
    "        \n",
    "            if (sum == x){\n",
    "                return true;\n",
    "            }\n",
    "            \n",
    "            if (sum < x){ \n",
    "                left = (left + 1) % arr.length;\n",
    "            }else{\n",
    "                right = (arr.length + right - 1) % arr.length;\n",
    "            }\n",
    "        \n",
    "        }\n",
    "        \n",
    "        return false;\n",
    "    \n",
    "    }\n",
    "}"
   ]
  },
  {
   "cell_type": "markdown",
   "metadata": {},
   "source": [
    "### And testing"
   ]
  },
  {
   "cell_type": "code",
   "execution_count": 6,
   "metadata": {},
   "outputs": [
    {
     "data": {
      "text/plain": [
       "true"
      ]
     },
     "execution_count": 6,
     "metadata": {},
     "output_type": "execute_result"
    }
   ],
   "source": [
    "int[] test = {6, 7, 1, 2, 3, 4, 5};\n",
    "PairInSortedRotated.process(test, 12);"
   ]
  },
  {
   "cell_type": "markdown",
   "metadata": {},
   "source": [
    "Reference: [geeksforgeeks.org - Given a sorted and rotated array, find if there is a pair with a given sum](https://www.geeksforgeeks.org/given-a-sorted-and-rotated-array-find-if-there-is-a-pair-with-a-given-sum/)  \n",
    "*See the first part*"
   ]
  }
 ],
 "metadata": {
  "kernelspec": {
   "display_name": "Java",
   "language": "java",
   "name": "java"
  },
  "language_info": {
   "codemirror_mode": "java",
   "file_extension": ".jshell",
   "mimetype": "text/x-java-source",
   "name": "Java",
   "pygments_lexer": "java",
   "version": "15.0.1+9-18"
  }
 },
 "nbformat": 4,
 "nbformat_minor": 4
}
