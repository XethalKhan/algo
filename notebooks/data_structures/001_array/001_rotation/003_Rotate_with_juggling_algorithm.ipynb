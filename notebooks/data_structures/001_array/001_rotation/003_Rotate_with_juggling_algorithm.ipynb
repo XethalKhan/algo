{
 "cells": [
  {
   "cell_type": "markdown",
   "metadata": {},
   "source": [
    "# Rotate elements of array with juggling\n",
    "\n",
    "Rotate array **$arr$** of size **$n$** to the left **$d$** times.  \n",
    "\n",
    "Instead of moving one by one, divide the array in different sets where number of sets is equal to **$GCD$** of **$n$** and **$d$** and move the elements within sets.\n",
    "\n",
    "`Input arr[] = [1, 2, 3, 4, 5, 6, 7, 8, 9, 10, 11, 12], d = 3`  \n",
    "\n",
    "$GCD(12, 3) = 3$  \n",
    "  \n",
    "`for i = 0, i < GCD(n, d)  \n",
    "    left rotate all elements of arr by d where: index % GCD(n, d) == i`\n",
    "\n",
    "Iterations:\n",
    "1. `arr[] = [4, 2, 3, 7, 5, 6, 10, 8, 9, 1, 11, 12]` \n",
    "2. `arr[] = [4, 5, 3, 7, 8, 6, 10, 11, 9, 1, 2, 12]` \n",
    "3. `arr[] = [4, 5, 6, 7, 8, 9, 10, 11, 12, 1, 2, 3]` \n",
    "   \n",
    "**Time complexity** $ = O(n)$  \n",
    "**Auxiliary space** $ = O(1)$\n",
    "\n",
    "### Euclidean algorithm to calculate GCD"
   ]
  },
  {
   "cell_type": "code",
   "execution_count": 1,
   "metadata": {},
   "outputs": [],
   "source": [
    "class EuclideanAlgorithm{\n",
    "\n",
    "    public static int process(int a, int b){\n",
    "        if (a == 0){\n",
    "            return b;\n",
    "        }\n",
    "\n",
    "        return process(b%a, a);\n",
    "    }\n",
    "\n",
    "}"
   ]
  },
  {
   "cell_type": "markdown",
   "metadata": {},
   "source": [
    "### Create array to rotate"
   ]
  },
  {
   "cell_type": "code",
   "execution_count": 2,
   "metadata": {},
   "outputs": [],
   "source": [
    "int[] arr = {1, 2, 3, 4, 5, 6, 7, 8, 9, 10, 11, 12, 13};"
   ]
  },
  {
   "cell_type": "markdown",
   "metadata": {},
   "source": [
    "### Number of steps to rotate array"
   ]
  },
  {
   "cell_type": "code",
   "execution_count": 3,
   "metadata": {},
   "outputs": [],
   "source": [
    "int d = 3;"
   ]
  },
  {
   "cell_type": "markdown",
   "metadata": {},
   "source": [
    "### Rotate array"
   ]
  },
  {
   "cell_type": "code",
   "execution_count": 4,
   "metadata": {},
   "outputs": [],
   "source": [
    "//Calculate GCD\n",
    "int gcd = EuclideanAlgorithm.process(d, arr.length);\n",
    "\n",
    "    for(int i = 0; i < gcd; i++){\n",
    "        \n",
    "        //Temp variable where first element of set is stored\n",
    "        int temp = arr[i];\n",
    "        int j = i; //j allways start from first position of set\n",
    "        int k; //arr[k] will rotate left to the place of arr[j]\n",
    "        \n",
    "        while(true){\n",
    "            \n",
    "            k = j + d;\n",
    "            \n",
    "            //Reduce k with n if k is greater then n\n",
    "            if(k >= arr.length){\n",
    "                k -= arr.length;\n",
    "            }\n",
    "            \n",
    "            //End of the set\n",
    "            if(k == i){\n",
    "                break;\n",
    "            }\n",
    "            \n",
    "            //Rotation to the left\n",
    "            arr[j] = arr[k];\n",
    "            j = k;\n",
    "        }\n",
    "        \n",
    "        //Put first element from set (temp) into last element of set\n",
    "        arr[j] = temp;\n",
    "    }"
   ]
  },
  {
   "cell_type": "markdown",
   "metadata": {},
   "source": [
    "### Print rotated array"
   ]
  },
  {
   "cell_type": "code",
   "execution_count": 5,
   "metadata": {},
   "outputs": [
    {
     "name": "stdout",
     "output_type": "stream",
     "text": [
      "GCD(13, 3) = 1\r\n"
     ]
    },
    {
     "data": {
      "text/plain": [
       "[4, 5, 6, 7, 8, 9, 10, 11, 12, 13, 1, 2, 3]"
      ]
     },
     "execution_count": 5,
     "metadata": {},
     "output_type": "execute_result"
    }
   ],
   "source": [
    "import java.util.Arrays;\n",
    "System.out.println(\"GCD(\" + arr.length + \", \" + d + \") = \" + gcd);\n",
    "Arrays.toString(arr);"
   ]
  },
  {
   "cell_type": "markdown",
   "metadata": {},
   "source": [
    "Reference: [geeksforgeeks.org - Array rotation](https://www.geeksforgeeks.org/array-rotation/ \"Array rotation, method 2\")  \n",
    "*See: METHOD 3 (A Juggling Algorithm)*"
   ]
  },
  {
   "cell_type": "code",
   "execution_count": null,
   "metadata": {},
   "outputs": [],
   "source": []
  }
 ],
 "metadata": {
  "kernelspec": {
   "display_name": "Java",
   "language": "java",
   "name": "java"
  },
  "language_info": {
   "codemirror_mode": "java",
   "file_extension": ".jshell",
   "mimetype": "text/x-java-source",
   "name": "Java",
   "pygments_lexer": "java",
   "version": "15.0.1+9-18"
  }
 },
 "nbformat": 4,
 "nbformat_minor": 4
}
