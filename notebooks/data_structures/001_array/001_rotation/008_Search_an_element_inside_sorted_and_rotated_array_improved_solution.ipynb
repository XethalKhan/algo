{
 "cells": [
  {
   "cell_type": "markdown",
   "metadata": {},
   "source": [
    "# Search an element in a sorted and rotated array - basic approach\n",
    "\n",
    "Suppose we rotate an ascending order sorted array at some pivot unknown to you beforehand. So for instance, $[1, 2, 3, 4, 5]$ might become $[3, 4, 5, 1, 2]$. Devise a way to find an element in the rotated array in $O(log_n)$ time.\n",
    "\n",
    "**Assume that all elements in the array are distinct.**  \n",
    "\n",
    "Pivot point - index of element inside array where $arr[pivot] > arr[pivot + 1]$. In upper example, pivot point is element 5 (index is 2).\n",
    "\n",
    "Examples:  \n",
    "`  \n",
    "Input: arr[] = {5, 6, 7, 8, 9, 10, 1, 2, 3}, key = 3  \n",
    "Output : Found at index 8  \n",
    "Input  : arr[] = {5, 6, 7, 8, 9, 10, 1, 2, 3}, key = 30  \n",
    "Output : Not found  \n",
    "Input : arr[] = {30, 40, 50, 10, 20}, key = 10    \n",
    "Output : Found at index 3`\n",
    "\n",
    "Instead of two passes of binary search the result can be found in one pass of binary search. The binary search needs to be modified to perform the search. The idea is to create a recursive function that takes $l$ and $r$ as range in input and the $key$.\n",
    "\n",
    "Steps:  \n",
    "\n",
    "1. Find middle point mid = (low + high)/2\n",
    "2. IF key is present at middle point, return mid.\n",
    "3. ELSE IF arr[low..mid] is sorted\n",
    "    1. IF key to be searched lies in range from arr[low] to arr[mid], recur for arr[low..mid].\n",
    "    2. ELSE recur for arr[mid+1..high]\n",
    "4. ELSE arr[mid+1..high] must be sorted\n",
    "    1. IF key to be searched lies in range from arr[mid+1] to arr[high], recur for arr[mid+1..high].\n",
    "    2. ELSE recur for arr[low..mid] \n",
    "   \n",
    "**Time complexity** $ = O(log_n)$ \n",
    "**Space complexity** $ = O(1)$ no extra space is required\n",
    "\n",
    "### Searching algorithm\n",
    "\n",
    "Find $key$ inside $arr$, starting from index $low$ up top index $high$"
   ]
  },
  {
   "cell_type": "code",
   "execution_count": 1,
   "metadata": {},
   "outputs": [],
   "source": [
    "public class Search{\n",
    "\n",
    "    public static int process(int[] arr, int low, int high, int key){\n",
    "        \n",
    "        System.out.println(\"search(arr, \" + low + \", \" + high + \", \" + key + \")\");\n",
    "\n",
    "        //Base cases \n",
    "        if (low > high){\n",
    "            return -1;\n",
    "        }\n",
    "\n",
    "        //1. Find middle point mid = (low + high)/2\n",
    "        int mid = (low + high) / 2;\n",
    "\n",
    "        //2. IF key is present at middle point, return mid.\n",
    "        if (arr[mid] == key){\n",
    "            return mid;\n",
    "        }\n",
    "\n",
    "        //3. ELSE IF arr[low..mid] is sorted\n",
    "        if (arr[low] <= arr[mid]) { \n",
    "\n",
    "            //A. IF key to be searched lies in range from arr[low] to arr[mid], recur for arr[low..mid].\n",
    "            if (key >= arr[low] && key <= arr[mid]){ \n",
    "                return Search.process(arr, low, mid - 1, key);\n",
    "            }\n",
    "\n",
    "            //2. ELSE recur for arr[mid+1..high]\n",
    "            return Search.process(arr, mid + 1, high, key); \n",
    "        } \n",
    "\n",
    "        //4. ELSE arr[mid+1..high] must be sorted\n",
    "        //A. IF key to be searched lies in range from arr[mid+1] to arr[high], recur for arr[mid+1..high].\n",
    "        if (key >= arr[mid] && key <= arr[high]){ \n",
    "            return Search.process(arr, mid + 1, high, key);\n",
    "        }\n",
    "        \n",
    "        //B. ELSE recur for arr[low..mid] \n",
    "        return Search.process(arr, low, mid - 1, key); \n",
    "        \n",
    "    }\n",
    "\n",
    "}"
   ]
  },
  {
   "cell_type": "markdown",
   "metadata": {},
   "source": [
    "### Create array to look for an element"
   ]
  },
  {
   "cell_type": "code",
   "execution_count": 2,
   "metadata": {},
   "outputs": [],
   "source": [
    "int[] arr = {4, 5, 6, 7, 8, 9, 10, 1, 2, 3};"
   ]
  },
  {
   "cell_type": "markdown",
   "metadata": {},
   "source": [
    "### Element to look inside array"
   ]
  },
  {
   "cell_type": "code",
   "execution_count": 3,
   "metadata": {},
   "outputs": [],
   "source": [
    "int key = 5;"
   ]
  },
  {
   "cell_type": "markdown",
   "metadata": {},
   "source": [
    "### Search array"
   ]
  },
  {
   "cell_type": "code",
   "execution_count": 4,
   "metadata": {},
   "outputs": [
    {
     "name": "stdout",
     "output_type": "stream",
     "text": [
      "arr = [4, 5, 6, 7, 8, 9, 10, 1, 2, 3]; key = 5\n",
      "\n",
      "search(arr, 0, 9, 5)\n",
      "search(arr, 0, 3, 5)\n",
      "\n",
      "Index of element we are looking for = 1\n"
     ]
    }
   ],
   "source": [
    "import java.util.Arrays;\n",
    "System.out.println(\"arr = \" + Arrays.toString(arr) + \"; key = \" + key + \"\\n\");\n",
    "\n",
    "int result = Search.process(arr, 0, arr.length - 1, key);\n",
    "\n",
    "System.out.println(\"\\nIndex of element we are looking for = \" + result);"
   ]
  },
  {
   "cell_type": "markdown",
   "metadata": {},
   "source": [
    "Reference: [geeksforgeeks.org - Search an element in a sorted and rotated array](https://www.geeksforgeeks.org/search-an-element-in-a-sorted-and-pivoted-array/ \"Search an element in a sorted and rotated array\")  \n",
    "*See: Imrproved solution*"
   ]
  }
 ],
 "metadata": {
  "kernelspec": {
   "display_name": "Java",
   "language": "java",
   "name": "java"
  },
  "language_info": {
   "codemirror_mode": "java",
   "file_extension": ".jshell",
   "mimetype": "text/x-java-source",
   "name": "Java",
   "pygments_lexer": "java",
   "version": "15.0.1+9-18"
  }
 },
 "nbformat": 4,
 "nbformat_minor": 4
}
