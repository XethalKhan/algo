{
 "cells": [
  {
   "cell_type": "markdown",
   "metadata": {},
   "source": [
    "# Linked list - delete a node at given position\n",
    "\n",
    "### Linked list node"
   ]
  },
  {
   "cell_type": "code",
   "execution_count": 1,
   "metadata": {},
   "outputs": [],
   "source": [
    "public class Node{\n",
    "    public int data;\n",
    "    public Node next;\n",
    "    \n",
    "    public Node(int data){\n",
    "        this.data = data;\n",
    "        this.next = null;\n",
    "    }\n",
    "    \n",
    "}"
   ]
  },
  {
   "cell_type": "markdown",
   "metadata": {},
   "source": [
    "### Utility function to print Linked list"
   ]
  },
  {
   "cell_type": "code",
   "execution_count": 2,
   "metadata": {},
   "outputs": [],
   "source": [
    "public class printLinkedList{\n",
    "    public static void process(Node head){\n",
    "    \n",
    "        Node temp = head;\n",
    "    \n",
    "        while(temp != null){\n",
    "            System.out.print(temp.data + \" => \");\n",
    "            temp = temp.next;\n",
    "        }\n",
    "        \n",
    "        System.out.print(\"null\");\n",
    "        \n",
    "        return;\n",
    "    }\n",
    "}"
   ]
  },
  {
   "cell_type": "markdown",
   "metadata": {},
   "source": [
    "### Initial linked list\n",
    "\n",
    "**head** node will be start of the linked list"
   ]
  },
  {
   "cell_type": "code",
   "execution_count": 3,
   "metadata": {},
   "outputs": [
    {
     "name": "stdout",
     "output_type": "stream",
     "text": [
      "Initial linked list:\t10 => 64 => 32 => 117 => null"
     ]
    }
   ],
   "source": [
    "Node head = new Node(10);\n",
    "head.next = new Node(64);\n",
    "head.next.next = new Node(32);\n",
    "head.next.next.next = new Node(117);\n",
    "System.out.print(\"Initial linked list:\\t\");\n",
    "printLinkedList.process(head);"
   ]
  },
  {
   "cell_type": "markdown",
   "metadata": {},
   "source": [
    "### Deleting a node at given position\n",
    "\n",
    "Given a $index$, delete the node that is in position $index$, regardless of its value. If the node to be deleted is the **head**, simply delete it. To delete a middle node, we must have a pointer to the node previous to the node to be deleted. So if positions are not zero, we run a loop position-1 times and get a pointer to the previous node.\n",
    "\n",
    "**Time complexity** = $O(index)$, because it has to traverse through linked list $index$ steps to find the node at specified position.\n",
    "\n",
    "### Position to delete from linked list"
   ]
  },
  {
   "cell_type": "code",
   "execution_count": 4,
   "metadata": {},
   "outputs": [],
   "source": [
    "int index = 2; //Value of a node we want to delete"
   ]
  },
  {
   "cell_type": "markdown",
   "metadata": {},
   "source": [
    "1.) Find the previous node of the node to be deleted (node at $position = index - 1$). $O(index)$ "
   ]
  },
  {
   "cell_type": "code",
   "execution_count": 5,
   "metadata": {},
   "outputs": [],
   "source": [
    "//If linked list is empty\n",
    "if(head == null){\n",
    "    //return false;\n",
    "}\n",
    "\n",
    "Node temp = head; //Node element with index = position - 1\n",
    "\n",
    "//Remove first element\n",
    "if(index == 0){\n",
    "    head = temp.next;\n",
    "    temp = null;\n",
    "    //return false;\n",
    "}\n",
    "\n",
    "//Find node element with index = position - 1\n",
    "for(int i = 0; temp != null && i < index - 1; i++){\n",
    "    temp = temp.next;\n",
    "}\n",
    "\n",
    "//If element with index = position does not exist\n",
    "if(temp == null || temp.next == null){\n",
    "    //return false;\n",
    "}"
   ]
  },
  {
   "cell_type": "markdown",
   "metadata": {},
   "source": [
    "2.) Find the node after the node to be deleted. $O(1)$"
   ]
  },
  {
   "cell_type": "code",
   "execution_count": 6,
   "metadata": {},
   "outputs": [
    {
     "name": "stdout",
     "output_type": "stream",
     "text": [
      "Node[index + 1] is 117\r\n"
     ]
    }
   ],
   "source": [
    "Node next = temp.next.next; //Node with index = position + 1\n",
    "System.out.println(\"Node[index + 1] is \" + next.data);"
   ]
  },
  {
   "cell_type": "markdown",
   "metadata": {},
   "source": [
    "3.) Free memory for the node to be deleted. $O(1)$"
   ]
  },
  {
   "cell_type": "code",
   "execution_count": 7,
   "metadata": {},
   "outputs": [],
   "source": [
    "temp.next = null;"
   ]
  },
  {
   "cell_type": "markdown",
   "metadata": {},
   "source": [
    "4.) Connect node\\[index - 1\\] => node\\[index + 1\\]. $O(1)$"
   ]
  },
  {
   "cell_type": "code",
   "execution_count": 8,
   "metadata": {},
   "outputs": [
    {
     "name": "stdout",
     "output_type": "stream",
     "text": [
      "64 => 117\r\n"
     ]
    }
   ],
   "source": [
    "temp.next = next; //Connecting node[position - 1]->next = node[position+1]\n",
    "System.out.println(temp.data + \" => \" + (temp.next == null ? \"null\" : temp.next.data));"
   ]
  },
  {
   "cell_type": "markdown",
   "metadata": {},
   "source": [
    "### Putting it all together"
   ]
  },
  {
   "cell_type": "code",
   "execution_count": 9,
   "metadata": {},
   "outputs": [
    {
     "name": "stdout",
     "output_type": "stream",
     "text": [
      "Initial linked list:\t\t\t\t10 => 64 => 117 => 200 => null\n",
      "Linked list after adding node at the end:\t10 => 117 => 200 => null"
     ]
    }
   ],
   "source": [
    "head.next.next.next = new Node(200);\n",
    "\n",
    "System.out.print(\"Initial linked list:\\t\\t\\t\\t\");\n",
    "printLinkedList.process(head);\n",
    "\n",
    "index = 1; //Index of a node to delete from linked list\n",
    "\n",
    "//1. Find the previous node of the node to be deleted (node at position = index - 1)\n",
    "//If linked list is empty\n",
    "if(head == null){\n",
    "    //return false;\n",
    "}\n",
    "\n",
    "Node temp = head; //Node element with index = position - 1\n",
    "\n",
    "//Remove first element\n",
    "if(index == 0){\n",
    "    head = temp.next;\n",
    "    temp = null;\n",
    "    //return false;\n",
    "}\n",
    "\n",
    "//Find node element with index = position - 1\n",
    "for(int i = 0; temp != null && i < index - 1; i++){\n",
    "    temp = temp.next;\n",
    "}\n",
    "\n",
    "//If element with index = position does not exist\n",
    "if(temp == null || temp.next == null){\n",
    "    //return false;\n",
    "}\n",
    "\n",
    "//2. Find the node after the node to be deleted. \n",
    "Node next = temp.next.next; //Node with index = position + 1\n",
    "\n",
    "//3. Free memory for the node to be deleted.\n",
    "temp.next = null;\n",
    "\n",
    "//4. Connect node[index - 1] => node[index + 1].\n",
    "temp.next = next; //Connecting node[index - 1]->next = node[index + 1]\n",
    "\n",
    "\n",
    "System.out.print(\"\\nLinked list after adding node at the end:\\t\");\n",
    "printLinkedList.process(head);"
   ]
  },
  {
   "cell_type": "markdown",
   "metadata": {},
   "source": [
    "Reference: [geeksforgeeks.org - Delete a linked list node at a given position](https://www.geeksforgeeks.org/delete-a-linked-list-node-at-a-given-position/ \"Delete a linked list node at a given position\")"
   ]
  },
  {
   "cell_type": "code",
   "execution_count": null,
   "metadata": {},
   "outputs": [],
   "source": []
  }
 ],
 "metadata": {
  "kernelspec": {
   "display_name": "Java",
   "language": "java",
   "name": "java"
  },
  "language_info": {
   "codemirror_mode": "java",
   "file_extension": ".jshell",
   "mimetype": "text/x-java-source",
   "name": "Java",
   "pygments_lexer": "java",
   "version": "15.0.1+9-18"
  }
 },
 "nbformat": 4,
 "nbformat_minor": 4
}
