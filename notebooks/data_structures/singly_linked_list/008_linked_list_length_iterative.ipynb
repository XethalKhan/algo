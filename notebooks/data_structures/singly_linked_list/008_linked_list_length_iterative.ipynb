{
 "cells": [
  {
   "cell_type": "markdown",
   "metadata": {},
   "source": [
    "# Find the length of linked list - iterative \n",
    "\n",
    "Write a function to count the number of nodes in a given singly linked list. For example, the function should return 5 for linked list 1->3->1->2->1.   \n",
    "\n",
    "Steps:  \n",
    "\n",
    "1. Initialize count as 0 \n",
    "2. Initialize a node pointer, current = head.\n",
    "3. Do following while current is not NULL  \n",
    "    1. current = current -> next\n",
    "    2. count++;\n",
    "4. Return count \n",
    "\n",
    "**Time complexity** $= O(n)$\n",
    "\n",
    "### Linked list node"
   ]
  },
  {
   "cell_type": "code",
   "execution_count": 1,
   "metadata": {},
   "outputs": [],
   "source": [
    "public class Node{\n",
    "    public int data;\n",
    "    public Node next;\n",
    "    \n",
    "    public Node(int data){\n",
    "        this.data = data;\n",
    "        this.next = null;\n",
    "    }\n",
    "    \n",
    "}"
   ]
  },
  {
   "cell_type": "markdown",
   "metadata": {},
   "source": [
    "### Utility function to print Linked list"
   ]
  },
  {
   "cell_type": "code",
   "execution_count": 2,
   "metadata": {},
   "outputs": [],
   "source": [
    "public class printLinkedList{\n",
    "    public static void process(Node head){\n",
    "    \n",
    "        Node temp = head;\n",
    "    \n",
    "        while(temp != null){\n",
    "            System.out.print(temp.data + \" => \");\n",
    "            temp = temp.next;\n",
    "        }\n",
    "        \n",
    "        System.out.print(\"null\");\n",
    "        \n",
    "        return;\n",
    "    }\n",
    "}"
   ]
  },
  {
   "cell_type": "markdown",
   "metadata": {},
   "source": [
    "### Initial linked list  \n",
    "\n",
    "**head** node will be start of the linked list"
   ]
  },
  {
   "cell_type": "code",
   "execution_count": 3,
   "metadata": {},
   "outputs": [
    {
     "name": "stdout",
     "output_type": "stream",
     "text": [
      "Initial linked list:\t10 => 64 => 32 => 117 => null"
     ]
    }
   ],
   "source": [
    "Node head = new Node(10);\n",
    "head.next = new Node(64);\n",
    "head.next.next = new Node(32);\n",
    "head.next.next.next = new Node(117);\n",
    "System.out.print(\"Initial linked list:\\t\");\n",
    "printLinkedList.process(head);"
   ]
  },
  {
   "cell_type": "markdown",
   "metadata": {},
   "source": [
    "### Counting nodes inside linked list"
   ]
  },
  {
   "cell_type": "code",
   "execution_count": 4,
   "metadata": {},
   "outputs": [
    {
     "name": "stdout",
     "output_type": "stream",
     "text": [
      "Number of nodes inside linked list = 4"
     ]
    }
   ],
   "source": [
    "//Temp node pointer that is added to the count\n",
    "Node current = head;\n",
    "\n",
    "//Number of nodes inside linked list\n",
    "int count = 0;\n",
    "\n",
    "while(current != null){\n",
    "    count++;\n",
    "    current = current.next;\n",
    "}\n",
    "\n",
    "System.out.print(\"Number of nodes inside linked list = \" + count);"
   ]
  },
  {
   "cell_type": "markdown",
   "metadata": {},
   "source": [
    "Reference [geeksforgeeks.org - Find Length of a Linked List](https://www.geeksforgeeks.org/find-length-of-a-linked-list-iterative-and-recursive/ \"Find Length of a Linked List - Iterative\")  \n",
    "*See: Iterative Solution*"
   ]
  }
 ],
 "metadata": {
  "kernelspec": {
   "display_name": "Java",
   "language": "java",
   "name": "java"
  },
  "language_info": {
   "codemirror_mode": "java",
   "file_extension": ".jshell",
   "mimetype": "text/x-java-source",
   "name": "Java",
   "pygments_lexer": "java",
   "version": "15.0.1+9-18"
  }
 },
 "nbformat": 4,
 "nbformat_minor": 4
}
