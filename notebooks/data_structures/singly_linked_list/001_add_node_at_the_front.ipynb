{
 "cells": [
  {
   "cell_type": "markdown",
   "metadata": {},
   "source": [
    "# Linked list - add node at the front\n",
    "\n",
    "### Linked list node"
   ]
  },
  {
   "cell_type": "code",
   "execution_count": 1,
   "metadata": {},
   "outputs": [],
   "source": [
    "public class Node{\n",
    "    public int data;\n",
    "    public Node next;\n",
    "    \n",
    "    public Node(int data){\n",
    "        this.data = data;\n",
    "        this.next = null;\n",
    "    }\n",
    "    \n",
    "}"
   ]
  },
  {
   "cell_type": "markdown",
   "metadata": {},
   "source": [
    "### Utility function to print Linked list"
   ]
  },
  {
   "cell_type": "code",
   "execution_count": 2,
   "metadata": {},
   "outputs": [],
   "source": [
    "public class printLinkedList{\n",
    "    public static void process(Node head){\n",
    "    \n",
    "        Node temp = head;\n",
    "    \n",
    "        while(temp != null){\n",
    "            System.out.print(temp.data + \" => \");\n",
    "            temp = temp.next;\n",
    "        }\n",
    "        \n",
    "        System.out.print(\"null\");\n",
    "        \n",
    "        return;\n",
    "    }\n",
    "}"
   ]
  },
  {
   "cell_type": "markdown",
   "metadata": {},
   "source": [
    "### Initial linked list\n",
    "\n",
    "**head** node will be start of the linked list"
   ]
  },
  {
   "cell_type": "code",
   "execution_count": 3,
   "metadata": {},
   "outputs": [
    {
     "name": "stdout",
     "output_type": "stream",
     "text": [
      "Initial linked list:\t10 => 64 => 32 => 117 => null"
     ]
    }
   ],
   "source": [
    "Node head = new Node(10);\n",
    "head.next = new Node(64);\n",
    "head.next.next = new Node(32);\n",
    "head.next.next.next = new Node(117);\n",
    "System.out.print(\"Initial linked list:\\t\");\n",
    "printLinkedList.process(head);"
   ]
  },
  {
   "cell_type": "markdown",
   "metadata": {},
   "source": [
    "### Adding a node at the front\n",
    "\n",
    "4 step process. Time complexity  is $O(1)$ as it does constant amount of work.\n",
    "\n",
    "1.) Allocate the node"
   ]
  },
  {
   "cell_type": "code",
   "execution_count": 4,
   "metadata": {},
   "outputs": [],
   "source": [
    "Node add = new Node(0);"
   ]
  },
  {
   "cell_type": "markdown",
   "metadata": {},
   "source": [
    "2.) Put in the data\n",
    "\n",
    "We can do both steps with `Node n = new Node(data)`, but we perform these steps separately"
   ]
  },
  {
   "cell_type": "code",
   "execution_count": 5,
   "metadata": {},
   "outputs": [
    {
     "name": "stdout",
     "output_type": "stream",
     "text": [
      "Initial new node data =\t0\n",
      "Current new node data =\t200\n"
     ]
    }
   ],
   "source": [
    "System.out.println(\"Initial new node data =\\t\" + add.data);\n",
    "add.data = 200;\n",
    "System.out.println(\"Current new node data =\\t\" + add.data);"
   ]
  },
  {
   "cell_type": "markdown",
   "metadata": {},
   "source": [
    "3.) Make **next** pointer of **add** node point to the **head**, making the **head** second element in linked list"
   ]
  },
  {
   "cell_type": "code",
   "execution_count": 6,
   "metadata": {},
   "outputs": [
    {
     "name": "stdout",
     "output_type": "stream",
     "text": [
      "Initial new node next data =\tnull\n",
      "Current new node next data =\t10\n"
     ]
    }
   ],
   "source": [
    "System.out.println(\"Initial new node next data =\\t\" + add.next);\n",
    "add.next = head;\n",
    "System.out.println(\"Current new node next data =\\t\" + add.next.data);"
   ]
  },
  {
   "cell_type": "markdown",
   "metadata": {},
   "source": [
    "4.) Move the **head** so it points to the new node **add**"
   ]
  },
  {
   "cell_type": "code",
   "execution_count": 7,
   "metadata": {},
   "outputs": [
    {
     "name": "stdout",
     "output_type": "stream",
     "text": [
      "Modified linked list:\t200 => 10 => 64 => 32 => 117 => null"
     ]
    }
   ],
   "source": [
    "head = add;\n",
    "System.out.print(\"Modified linked list:\\t\");\n",
    "printLinkedList.process(head);"
   ]
  },
  {
   "cell_type": "markdown",
   "metadata": {},
   "source": [
    "### Putting it all together"
   ]
  },
  {
   "cell_type": "code",
   "execution_count": 8,
   "metadata": {},
   "outputs": [
    {
     "name": "stdout",
     "output_type": "stream",
     "text": [
      "149 => 200 => 10 => 64 => 32 => 117 => null"
     ]
    }
   ],
   "source": [
    "//1. Allocate the node\n",
    "//2. Put in the data\n",
    "add = new Node(149);\n",
    "//3. Make next pointer of add node point to the head, making the head second element in linked list\n",
    "add.next = head;\n",
    "//4. Move the head so it points to the new node add\n",
    "head = add;\n",
    "printLinkedList.process(head);"
   ]
  },
  {
   "cell_type": "markdown",
   "metadata": {},
   "source": [
    "Reference: [geeksforgeeks.org - Linked List | Set 2 (inserting a node)](https://www.geeksforgeeks.org/linked-list-set-2-inserting-a-node/ \"Linked List | Set 2 (inserting a node)\")  \n",
    "*See part: Add a node at the front*"
   ]
  },
  {
   "cell_type": "code",
   "execution_count": null,
   "metadata": {},
   "outputs": [],
   "source": []
  }
 ],
 "metadata": {
  "kernelspec": {
   "display_name": "Java",
   "language": "java",
   "name": "java"
  },
  "language_info": {
   "codemirror_mode": "java",
   "file_extension": ".jshell",
   "mimetype": "text/x-java-source",
   "name": "Java",
   "pygments_lexer": "java",
   "version": "15.0.1+9-18"
  }
 },
 "nbformat": 4,
 "nbformat_minor": 4
}
