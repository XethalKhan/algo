{
 "cells": [
  {
   "cell_type": "markdown",
   "metadata": {},
   "source": [
    "# Linked list - add node after specific node\n",
    "\n",
    "![Insert node after specific node inside singly linked list](https://upload.wikimedia.org/wikipedia/commons/thumb/4/4b/CPT-LinkedLists-addingnode.svg/256px-CPT-LinkedLists-addingnode.svg.png \"Insert node after specific node\")\n",
    "\n",
    ">Insert node after specific node inside singly linked list.\n",
    "\n",
    "[License: Derrick Coetzee\n",
    "derivative work: Pluke, Public domain, via Wikimedia Commons](https://commons.wikimedia.org/wiki/File:CPT-LinkedLists-addingnode.svg)\n",
    "\n",
    "\n",
    "### Linked list node"
   ]
  },
  {
   "cell_type": "code",
   "execution_count": 1,
   "metadata": {},
   "outputs": [],
   "source": [
    "public class Node{\n",
    "    public int data;\n",
    "    public Node next;\n",
    "    \n",
    "    public Node(int data){\n",
    "        this.data = data;\n",
    "        this.next = null;\n",
    "    }\n",
    "    \n",
    "}"
   ]
  },
  {
   "cell_type": "markdown",
   "metadata": {},
   "source": [
    "### Utility function to print Linked list"
   ]
  },
  {
   "cell_type": "code",
   "execution_count": 2,
   "metadata": {},
   "outputs": [],
   "source": [
    "public class printLinkedList{\n",
    "    public static void process(Node head){\n",
    "    \n",
    "        Node temp = head;\n",
    "    \n",
    "        while(temp != null){\n",
    "            System.out.print(temp.data + \" => \");\n",
    "            temp = temp.next;\n",
    "        }\n",
    "        \n",
    "        System.out.print(\"null\");\n",
    "        \n",
    "        return;\n",
    "    }\n",
    "}"
   ]
  },
  {
   "cell_type": "markdown",
   "metadata": {},
   "source": [
    "### Initial linked list\n",
    "\n",
    "**head** node will be start of the linked list"
   ]
  },
  {
   "cell_type": "code",
   "execution_count": 3,
   "metadata": {},
   "outputs": [
    {
     "name": "stdout",
     "output_type": "stream",
     "text": [
      "Initial linked list:\t10 => 64 => 32 => 117 => null"
     ]
    }
   ],
   "source": [
    "Node head = new Node(10);\n",
    "head.next = new Node(64);\n",
    "head.next.next = new Node(32);\n",
    "head.next.next.next = new Node(117);\n",
    "System.out.print(\"Initial linked list:\\t\");\n",
    "printLinkedList.process(head);"
   ]
  },
  {
   "cell_type": "markdown",
   "metadata": {},
   "source": [
    "### Adding a node after specific node\n",
    "\n",
    "5 step process.  \n",
    "Time complexity is $O(1)$ as it does constant amount of work.\n",
    "\n",
    "1.) Check if the given Node to insert after is null"
   ]
  },
  {
   "cell_type": "code",
   "execution_count": 4,
   "metadata": {},
   "outputs": [],
   "source": [
    "Node prev = head.next;\n",
    "if(prev == null){\n",
    "    System.out.println(\"The given previous node cannot be null\");  \n",
    "    //return; \n",
    "}"
   ]
  },
  {
   "cell_type": "markdown",
   "metadata": {},
   "source": [
    "2.) Allocate the node"
   ]
  },
  {
   "cell_type": "code",
   "execution_count": 5,
   "metadata": {},
   "outputs": [],
   "source": [
    "Node add = new Node(0);"
   ]
  },
  {
   "cell_type": "markdown",
   "metadata": {},
   "source": [
    "3.) Put in the data"
   ]
  },
  {
   "cell_type": "code",
   "execution_count": 6,
   "metadata": {},
   "outputs": [
    {
     "name": "stdout",
     "output_type": "stream",
     "text": [
      "Initial new node data =\t0\n",
      "Current new node data =\t200\n"
     ]
    }
   ],
   "source": [
    "System.out.println(\"Initial new node data =\\t\" + add.data);\n",
    "add.data = 200;\n",
    "System.out.println(\"Current new node data =\\t\" + add.data);"
   ]
  },
  {
   "cell_type": "markdown",
   "metadata": {},
   "source": [
    "4.) Make next of **add** node as next of **prev** node"
   ]
  },
  {
   "cell_type": "code",
   "execution_count": 7,
   "metadata": {},
   "outputs": [
    {
     "name": "stdout",
     "output_type": "stream",
     "text": [
      "Initial new node next =\tnull\n",
      "Current new node next =\t200\n"
     ]
    }
   ],
   "source": [
    "System.out.println(\"Initial new node next =\\t\" + add.next);\n",
    "add.next = prev.next;\n",
    "System.out.println(\"Current new node next =\\t\" + add.data);"
   ]
  },
  {
   "cell_type": "markdown",
   "metadata": {},
   "source": [
    "5.) Make next of **prev** node as **add** node"
   ]
  },
  {
   "cell_type": "code",
   "execution_count": 8,
   "metadata": {},
   "outputs": [
    {
     "name": "stdout",
     "output_type": "stream",
     "text": [
      "10 => 64 => 200 => 32 => 117 => null"
     ]
    }
   ],
   "source": [
    "prev.next = add;\n",
    "printLinkedList.process(head);"
   ]
  },
  {
   "cell_type": "markdown",
   "metadata": {},
   "source": [
    "### Putting it all together"
   ]
  },
  {
   "cell_type": "code",
   "execution_count": 9,
   "metadata": {},
   "outputs": [
    {
     "name": "stdout",
     "output_type": "stream",
     "text": [
      "Initial linked list:\t\t\t\t10 => 64 => 200 => 32 => 117 => null\n",
      "Node after which to add new node:\t\t200\n",
      "Linked list after adding node at the end:\t10 => 64 => 200 => 87 => 32 => 117 => null"
     ]
    }
   ],
   "source": [
    "System.out.print(\"Initial linked list:\\t\\t\\t\\t\");\n",
    "printLinkedList.process(head);\n",
    "\n",
    "Node prev = head.next.next;\n",
    "\n",
    "System.out.print(\"\\nNode after which to add new node:\\t\\t\");\n",
    "System.out.print(prev.data);\n",
    "\n",
    "//1. Check if the given Node to insert after is null\n",
    "if(prev == null){\n",
    "    System.out.println(\"The given previous node cannot be null\");  \n",
    "    //return; \n",
    "}\n",
    "//2. Allocate the node\n",
    "//3. Put in the data\n",
    "add = new Node(87);\n",
    "\n",
    "//4. Make next of add node as next of prev node\n",
    "add.next = prev.next;\n",
    "\n",
    "//5. Make next of prev node as add node\n",
    "prev.next = add;\n",
    "\n",
    "System.out.print(\"\\nLinked list after adding node at the end:\\t\");\n",
    "printLinkedList.process(head);"
   ]
  },
  {
   "cell_type": "markdown",
   "metadata": {},
   "source": [
    "Reference: [geeksforgeeks.org - Linked List | Set 2 (inserting a node)](https://www.geeksforgeeks.org/linked-list-set-2-inserting-a-node/ \"Linked List | Set 2 (inserting a node)\")  \n",
    "*See part: Add a node after a given node*"
   ]
  },
  {
   "cell_type": "code",
   "execution_count": null,
   "metadata": {},
   "outputs": [],
   "source": []
  }
 ],
 "metadata": {
  "kernelspec": {
   "display_name": "Java",
   "language": "java",
   "name": "java"
  },
  "language_info": {
   "codemirror_mode": "java",
   "file_extension": ".jshell",
   "mimetype": "text/x-java-source",
   "name": "Java",
   "pygments_lexer": "java",
   "version": "15.0.1+9-18"
  }
 },
 "nbformat": 4,
 "nbformat_minor": 4
}
