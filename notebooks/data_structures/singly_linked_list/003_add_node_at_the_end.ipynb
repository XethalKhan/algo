{
 "cells": [
  {
   "cell_type": "markdown",
   "metadata": {},
   "source": [
    "# Linked list - add node at the end\n",
    "\n",
    "### Linked list node"
   ]
  },
  {
   "cell_type": "code",
   "execution_count": 1,
   "metadata": {},
   "outputs": [],
   "source": [
    "public class Node{\n",
    "    public int data;\n",
    "    public Node next;\n",
    "    \n",
    "    public Node(int data){\n",
    "        this.data = data;\n",
    "        this.next = null;\n",
    "    }\n",
    "    \n",
    "}"
   ]
  },
  {
   "cell_type": "markdown",
   "metadata": {},
   "source": [
    "### Utility function to print Linked list"
   ]
  },
  {
   "cell_type": "code",
   "execution_count": 2,
   "metadata": {},
   "outputs": [],
   "source": [
    "public class printLinkedList{\n",
    "    public static void process(Node head){\n",
    "    \n",
    "        Node temp = head;\n",
    "    \n",
    "        while(temp != null){\n",
    "            System.out.print(temp.data + \" => \");\n",
    "            temp = temp.next;\n",
    "        }\n",
    "        \n",
    "        System.out.print(\"null\");\n",
    "        \n",
    "        return;\n",
    "    }\n",
    "}"
   ]
  },
  {
   "cell_type": "markdown",
   "metadata": {},
   "source": [
    "### Initial linked list\n",
    "\n",
    "**head** node will be start of the linked list"
   ]
  },
  {
   "cell_type": "code",
   "execution_count": 3,
   "metadata": {},
   "outputs": [
    {
     "name": "stdout",
     "output_type": "stream",
     "text": [
      "Initial linked list:\t10 => 64 => 32 => 117 => null"
     ]
    }
   ],
   "source": [
    "Node head = new Node(10);\n",
    "head.next = new Node(64);\n",
    "head.next.next = new Node(32);\n",
    "head.next.next.next = new Node(117);\n",
    "System.out.print(\"Initial linked list:\\t\");\n",
    "printLinkedList.process(head);"
   ]
  },
  {
   "cell_type": "markdown",
   "metadata": {},
   "source": [
    "### Adding a node at the end\n",
    "\n",
    "6 step process.  \n",
    "Time complexity of append is $O(n)$ where $n$ is the number of nodes in linked list. Since there is a loop from head to end, the method does $O(n)$ work.  \n",
    "This method can also be optimized to work in $O(1)$ by keeping an extra pointer to tail of linked list\n",
    "\n",
    "1.) Allocate the node"
   ]
  },
  {
   "cell_type": "code",
   "execution_count": 4,
   "metadata": {},
   "outputs": [],
   "source": [
    "Node add = new Node(0);"
   ]
  },
  {
   "cell_type": "markdown",
   "metadata": {},
   "source": [
    "2.) Put in the data"
   ]
  },
  {
   "cell_type": "code",
   "execution_count": 5,
   "metadata": {},
   "outputs": [
    {
     "name": "stdout",
     "output_type": "stream",
     "text": [
      "Initial new node data =\t0\n",
      "Current new node data =\t200\n"
     ]
    }
   ],
   "source": [
    "System.out.println(\"Initial new node data =\\t\" + add.data);\n",
    "add.data = 200;\n",
    "System.out.println(\"Current new node data =\\t\" + add.data);"
   ]
  },
  {
   "cell_type": "markdown",
   "metadata": {},
   "source": [
    "3.) Set next as null\n",
    "\n",
    "We can do first 3 steps with `Node n = new Node(data)`, but we perform these steps separately"
   ]
  },
  {
   "cell_type": "code",
   "execution_count": 6,
   "metadata": {},
   "outputs": [],
   "source": [
    "add.next = null;"
   ]
  },
  {
   "cell_type": "markdown",
   "metadata": {},
   "source": [
    "4.) **If** the Linked List is empty, then make the **add** node its **head**"
   ]
  },
  {
   "cell_type": "code",
   "execution_count": 7,
   "metadata": {},
   "outputs": [],
   "source": [
    "if(head == null){\n",
    "    head = add;\n",
    "    //return;\n",
    "}"
   ]
  },
  {
   "cell_type": "markdown",
   "metadata": {},
   "source": [
    "5.) **Else** traverse untill the last node"
   ]
  },
  {
   "cell_type": "code",
   "execution_count": 8,
   "metadata": {},
   "outputs": [],
   "source": [
    "Node last = head;  \n",
    "while (last.next != null) \n",
    "    last = last.next;"
   ]
  },
  {
   "cell_type": "markdown",
   "metadata": {},
   "source": [
    "6.) Change the **next** pointer of the **last** node"
   ]
  },
  {
   "cell_type": "code",
   "execution_count": 9,
   "metadata": {},
   "outputs": [
    {
     "name": "stdout",
     "output_type": "stream",
     "text": [
      "10 => 64 => 32 => 117 => 200 => null"
     ]
    }
   ],
   "source": [
    "last.next = add; \n",
    "printLinkedList.process(head);"
   ]
  },
  {
   "cell_type": "markdown",
   "metadata": {},
   "source": [
    "### Putting it all together"
   ]
  },
  {
   "cell_type": "code",
   "execution_count": 10,
   "metadata": {},
   "outputs": [
    {
     "name": "stdout",
     "output_type": "stream",
     "text": [
      "Initial linked list:\t\t\t\t10 => 64 => 32 => 117 => 200 => null\n",
      "Linked list after adding node at the end:\t10 => 64 => 32 => 117 => 200 => 87 => null"
     ]
    }
   ],
   "source": [
    "System.out.print(\"Initial linked list:\\t\\t\\t\\t\");\n",
    "printLinkedList.process(head);\n",
    "\n",
    "//1. Allocate the node\n",
    "//2. Put in the data\n",
    "//3. Set next as null\n",
    "add = new Node(87);\n",
    "\n",
    "//4. If the Linked List is empty, then make the add node its head\n",
    "if(head == null){\n",
    "    head = add;\n",
    "    //return;\n",
    "}\n",
    "\n",
    "//5. Else traverse untill the last node\n",
    "Node last = head;  \n",
    "while (last.next != null) \n",
    "    last = last.next;\n",
    "\n",
    "//6. Change the next pointer of the last node\n",
    "last.next = add;\n",
    "\n",
    "System.out.print(\"\\nLinked list after adding node at the end:\\t\");\n",
    "printLinkedList.process(head);"
   ]
  },
  {
   "cell_type": "markdown",
   "metadata": {},
   "source": [
    "Reference: [geeksforgeeks.org - Linked List | Set 2 (inserting a node)](https://www.geeksforgeeks.org/linked-list-set-2-inserting-a-node/ \"Linked List | Set 2 (inserting a node)\")  \n",
    "*See part: Add a node at the end*"
   ]
  },
  {
   "cell_type": "code",
   "execution_count": null,
   "metadata": {},
   "outputs": [],
   "source": []
  }
 ],
 "metadata": {
  "kernelspec": {
   "display_name": "Java",
   "language": "java",
   "name": "java"
  },
  "language_info": {
   "codemirror_mode": "java",
   "file_extension": ".jshell",
   "mimetype": "text/x-java-source",
   "name": "Java",
   "pygments_lexer": "java",
   "version": "15.0.1+9-18"
  }
 },
 "nbformat": 4,
 "nbformat_minor": 4
}
