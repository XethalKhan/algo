{
 "cells": [
  {
   "cell_type": "markdown",
   "metadata": {},
   "source": [
    "# Completely delete a linked list  \n",
    "\n",
    "Iterate through the linked list and delete all the nodes one by one. Main point here is not to access next of the current pointer if current pointer is deleted.  \n",
    "\n",
    "**Time complexity** $= O(n)$\n",
    "\n",
    "### Linked list node"
   ]
  },
  {
   "cell_type": "code",
   "execution_count": 1,
   "metadata": {},
   "outputs": [],
   "source": [
    "public class Node{\n",
    "    public int data;\n",
    "    public Node next;\n",
    "    \n",
    "    public Node(int data){\n",
    "        this.data = data;\n",
    "        this.next = null;\n",
    "    }\n",
    "    \n",
    "}"
   ]
  },
  {
   "cell_type": "markdown",
   "metadata": {},
   "source": [
    "### Utility function to print Linked list"
   ]
  },
  {
   "cell_type": "code",
   "execution_count": 2,
   "metadata": {},
   "outputs": [],
   "source": [
    "public class printLinkedList{\n",
    "    public static void process(Node head){\n",
    "    \n",
    "        Node temp = head;\n",
    "    \n",
    "        while(temp != null){\n",
    "            System.out.print(temp.data + \" => \");\n",
    "            temp = temp.next;\n",
    "        }\n",
    "        \n",
    "        System.out.print(\"null\");\n",
    "        \n",
    "        return;\n",
    "    }\n",
    "}"
   ]
  },
  {
   "cell_type": "markdown",
   "metadata": {},
   "source": [
    "### Initial linked list  \n",
    "\n",
    "**head** node will be start of the linked list"
   ]
  },
  {
   "cell_type": "code",
   "execution_count": 3,
   "metadata": {},
   "outputs": [
    {
     "name": "stdout",
     "output_type": "stream",
     "text": [
      "Initial linked list:\t10 => 64 => 32 => 117 => null"
     ]
    }
   ],
   "source": [
    "Node head = new Node(10);\n",
    "head.next = new Node(64);\n",
    "head.next.next = new Node(32);\n",
    "head.next.next.next = new Node(117);\n",
    "System.out.print(\"Initial linked list:\\t\");\n",
    "printLinkedList.process(head);"
   ]
  },
  {
   "cell_type": "markdown",
   "metadata": {},
   "source": [
    "### Deleting a linked list"
   ]
  },
  {
   "cell_type": "code",
   "execution_count": 4,
   "metadata": {},
   "outputs": [
    {
     "name": "stdout",
     "output_type": "stream",
     "text": [
      "Linked list after deleting:\tnull"
     ]
    }
   ],
   "source": [
    "//Linked list node that is being deleted\n",
    "Node current = head;\n",
    "\n",
    "//Next node of a current node\n",
    "Node next = null;\n",
    "\n",
    "while(current != null){\n",
    "    next = current.next;\n",
    "    current.next = null;\n",
    "    current = next;\n",
    "}\n",
    "\n",
    "head = null;\n",
    "\n",
    "System.out.print(\"Linked list after deleting:\\t\");\n",
    "printLinkedList.process(head);"
   ]
  }
 ],
 "metadata": {
  "kernelspec": {
   "display_name": "Java",
   "language": "java",
   "name": "java"
  },
  "language_info": {
   "codemirror_mode": "java",
   "file_extension": ".jshell",
   "mimetype": "text/x-java-source",
   "name": "Java",
   "pygments_lexer": "java",
   "version": "15.0.1+9-18"
  }
 },
 "nbformat": 4,
 "nbformat_minor": 4
}
