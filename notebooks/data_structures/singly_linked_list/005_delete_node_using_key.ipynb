{
 "cells": [
  {
   "cell_type": "markdown",
   "metadata": {},
   "source": [
    "# Linked list - delete a node with a key\n",
    "\n",
    "### Linked list node"
   ]
  },
  {
   "cell_type": "code",
   "execution_count": 1,
   "metadata": {},
   "outputs": [],
   "source": [
    "public class Node{\n",
    "    public int data;\n",
    "    public Node next;\n",
    "    \n",
    "    public Node(int data){\n",
    "        this.data = data;\n",
    "        this.next = null;\n",
    "    }\n",
    "    \n",
    "}"
   ]
  },
  {
   "cell_type": "markdown",
   "metadata": {},
   "source": [
    "### Utility function to print Linked list"
   ]
  },
  {
   "cell_type": "code",
   "execution_count": 2,
   "metadata": {},
   "outputs": [],
   "source": [
    "public class printLinkedList{\n",
    "    public static void process(Node head){\n",
    "    \n",
    "        Node temp = head;\n",
    "    \n",
    "        while(temp != null){\n",
    "            System.out.print(temp.data + \" => \");\n",
    "            temp = temp.next;\n",
    "        }\n",
    "        \n",
    "        System.out.print(\"null\");\n",
    "        \n",
    "        return;\n",
    "    }\n",
    "}"
   ]
  },
  {
   "cell_type": "markdown",
   "metadata": {},
   "source": [
    "### Initial linked list\n",
    "\n",
    "**head** node will be start of the linked list"
   ]
  },
  {
   "cell_type": "code",
   "execution_count": 3,
   "metadata": {},
   "outputs": [
    {
     "name": "stdout",
     "output_type": "stream",
     "text": [
      "Initial linked list:\t10 => 64 => 32 => 117 => null"
     ]
    }
   ],
   "source": [
    "Node head = new Node(10);\n",
    "head.next = new Node(64);\n",
    "head.next.next = new Node(32);\n",
    "head.next.next.next = new Node(117);\n",
    "System.out.print(\"Initial linked list:\\t\");\n",
    "printLinkedList.process(head);"
   ]
  },
  {
   "cell_type": "markdown",
   "metadata": {},
   "source": [
    "### Delete a node from linked list using key\n",
    "\n",
    "Given a $key$, delete the first occurrence of this key in the linked list. To delete a node from the linked list, we need to do the following steps:  \n",
    "\n",
    "1. Find the previous node of the node to be deleted. $O(n)$\n",
    "2. Change the next of the previous node. $O(1)$\n",
    "3. Free memory for the node to be deleted. $O(1)$\n",
    "\n",
    "**Time complexity** = $O(n)$, because it has to traverse through linked list to find the node with a key.\n",
    "\n",
    "### Value to delete from linked list"
   ]
  },
  {
   "cell_type": "code",
   "execution_count": 4,
   "metadata": {},
   "outputs": [],
   "source": [
    "int key = 32; //Value of a node we want to delete"
   ]
  },
  {
   "cell_type": "markdown",
   "metadata": {},
   "source": [
    "1.) Find the previous node of the node to be deleted. $O(n)$ "
   ]
  },
  {
   "cell_type": "code",
   "execution_count": 5,
   "metadata": {},
   "outputs": [],
   "source": [
    "Node temp = head; //Node whose data will be tested\n",
    "Node prev = null; //Reference to temp previous node\n",
    "\n",
    "//If first node contains key we look for\n",
    "if(temp != null && temp.data == key){\n",
    "    head = temp.next;\n",
    "    temp = null;\n",
    "    //return true;\n",
    "}\n",
    "\n",
    "// Search for the key to be deleted, keep track of the\n",
    "// previous node as we need to change 'prev->next'\n",
    "while (temp != null && temp.data != key)\n",
    "{\n",
    "    prev = temp;\n",
    "    temp = temp.next;\n",
    "}\n",
    "\n",
    "// If key was not present in linked list\n",
    "if (temp == null){\n",
    "    //return false; \n",
    "}"
   ]
  },
  {
   "cell_type": "markdown",
   "metadata": {},
   "source": [
    "2.) Change the next of the previous node. $O(1)$"
   ]
  },
  {
   "cell_type": "code",
   "execution_count": 6,
   "metadata": {},
   "outputs": [
    {
     "name": "stdout",
     "output_type": "stream",
     "text": [
      "Previous node, next pointer is 117\r\n"
     ]
    }
   ],
   "source": [
    "// Unlink the node from linked list\n",
    "prev.next = temp.next;\n",
    "System.out.println(\"Previous node, next pointer is \" + prev.next.data);"
   ]
  },
  {
   "cell_type": "markdown",
   "metadata": {},
   "source": [
    "3.) Free memory for the node to be deleted. $O(1)$"
   ]
  },
  {
   "cell_type": "code",
   "execution_count": 7,
   "metadata": {},
   "outputs": [],
   "source": [
    "temp = null;\n",
    "//return true;"
   ]
  },
  {
   "cell_type": "markdown",
   "metadata": {},
   "source": [
    "### Putting it all together"
   ]
  },
  {
   "cell_type": "code",
   "execution_count": 8,
   "metadata": {},
   "outputs": [
    {
     "name": "stdout",
     "output_type": "stream",
     "text": [
      "Initial linked list:\t\t\t\t10 => 64 => 117 => 200 => null\n",
      "Linked list after adding node at the end:\t10 => 64 => 200 => null"
     ]
    }
   ],
   "source": [
    "head.next.next.next = new Node(200);\n",
    "\n",
    "System.out.print(\"Initial linked list:\\t\\t\\t\\t\");\n",
    "printLinkedList.process(head);\n",
    "\n",
    "key = 117; //Value to delete from linked list\n",
    "\n",
    "//1. Find the previous node of the node to be deleted. \n",
    "Node temp = head; //Node whose data will be tested\n",
    "Node prev = null; //Reference to temp previous node\n",
    "\n",
    "//If first node contains key we look for\n",
    "if(temp != null && temp.data == key){\n",
    "    head = temp.next;\n",
    "    temp = null;\n",
    "    //return true;\n",
    "}\n",
    "\n",
    "// Search for the key to be deleted, keep track of the\n",
    "// previous node as we need to change 'prev->next'\n",
    "while (temp != null && temp.data != key)\n",
    "{\n",
    "    prev = temp;\n",
    "    temp = temp.next;\n",
    "}\n",
    "\n",
    "// If key was not present in linked list\n",
    "if (temp == null){\n",
    "    //return false; \n",
    "}\n",
    "\n",
    "//2. Change the next of the previous node. \n",
    "prev.next = temp.next;\n",
    "\n",
    "//3. Free memory for the node to be deleted.\n",
    "temp = null;\n",
    "//return true;\n",
    "\n",
    "System.out.print(\"\\nLinked list after adding node at the end:\\t\");\n",
    "printLinkedList.process(head);"
   ]
  },
  {
   "cell_type": "markdown",
   "metadata": {},
   "source": [
    "Reference: [geeksforgeeks.org - Linked List | Set 3 (deleting a node)](https://www.geeksforgeeks.org/linked-list-set-3-deleting-node/ \"Linked List | Set 3 (deleting a node)\")"
   ]
  },
  {
   "cell_type": "code",
   "execution_count": null,
   "metadata": {},
   "outputs": [],
   "source": []
  }
 ],
 "metadata": {
  "kernelspec": {
   "display_name": "Java",
   "language": "java",
   "name": "java"
  },
  "language_info": {
   "codemirror_mode": "java",
   "file_extension": ".jshell",
   "mimetype": "text/x-java-source",
   "name": "Java",
   "pygments_lexer": "java",
   "version": "15.0.1+9-18"
  }
 },
 "nbformat": 4,
 "nbformat_minor": 4
}
