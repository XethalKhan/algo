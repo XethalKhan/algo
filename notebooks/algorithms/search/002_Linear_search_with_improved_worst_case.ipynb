{
 "cells": [
  {
   "cell_type": "markdown",
   "metadata": {},
   "source": [
    "# Linear search in array with improved worst case\n",
    "\n",
    "Worst-case performance = $O(n)$  \n",
    "Best-case performance = $O(1)$  \n",
    "Average performance = $O(\\frac{n}{2})$  \n",
    "Worst-case space complexity = $O(1)$\n",
    "  \n",
    "We sequentially check elements of the list from both ends, thus reducing search time in half.\n",
    "\n",
    "1. if element is found at last position, worst-case performance improved from $O(n)$ to $O(1)$\n",
    "2. if element is not found, worst-case performance improved from $O(n)$ to $O(\\frac{n}{2})$ "
   ]
  },
  {
   "cell_type": "markdown",
   "metadata": {},
   "source": [
    "### Create array to search into"
   ]
  },
  {
   "cell_type": "code",
   "execution_count": 1,
   "metadata": {},
   "outputs": [],
   "source": [
    "int[] arr = {100, 200, 34, 278, 134, 82, 64, 149};"
   ]
  },
  {
   "cell_type": "markdown",
   "metadata": {},
   "source": [
    "### Element to search for"
   ]
  },
  {
   "cell_type": "code",
   "execution_count": 2,
   "metadata": {},
   "outputs": [],
   "source": [
    "int search = 82;"
   ]
  },
  {
   "cell_type": "markdown",
   "metadata": {},
   "source": [
    "### Execute linear search"
   ]
  },
  {
   "cell_type": "code",
   "execution_count": 3,
   "metadata": {},
   "outputs": [
    {
     "name": "stdout",
     "output_type": "stream",
     "text": [
      "Found 82 arr[5] = 82\r\n"
     ]
    }
   ],
   "source": [
    "int index = -1;\n",
    "\n",
    "for(int left = 0, right = arr.length - 1; left++ <= right--;){\n",
    "    \n",
    "    if(search == arr[left]){\n",
    "        index = left;\n",
    "        break;\n",
    "    }\n",
    "    \n",
    "    if(search == arr[right]){\n",
    "        index = right;\n",
    "        break;\n",
    "    }\n",
    "    \n",
    "}\n",
    "\n",
    "System.out.println(\"Found \" + search + \" arr[\" + index + \"] = \" + arr[index]);"
   ]
  },
  {
   "cell_type": "markdown",
   "metadata": {},
   "source": [
    "Reference: [geeksforgeeks.org - Linear search](https://www.geeksforgeeks.org/linear-search/ \"Linear search\")  \n",
    "*See: Improve Linear Search Worst-Case Complexity*"
   ]
  },
  {
   "cell_type": "code",
   "execution_count": null,
   "metadata": {},
   "outputs": [],
   "source": []
  }
 ],
 "metadata": {
  "kernelspec": {
   "display_name": "Java",
   "language": "java",
   "name": "java"
  },
  "language_info": {
   "codemirror_mode": "java",
   "file_extension": ".jshell",
   "mimetype": "text/x-java-source",
   "name": "Java",
   "pygments_lexer": "java",
   "version": "15.0.1+9-18"
  }
 },
 "nbformat": 4,
 "nbformat_minor": 4
}
