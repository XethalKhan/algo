{
 "cells": [
  {
   "cell_type": "markdown",
   "metadata": {},
   "source": [
    "# Selection sort of array"
   ]
  },
  {
   "cell_type": "markdown",
   "metadata": {},
   "source": [
    "![Selection sort animation](https://upload.wikimedia.org/wikipedia/commons/9/94/Selection-Sort-Animation.gif \"Selection sort animation\")\n",
    "\n",
    ">Selection sort animation. Red is current min. Yellow is sorted list. Blue is current item.\n",
    "\n",
    "[License: Joestape89, CC BY-SA 3.0, via Wikimedia Commons](http://creativecommons.org/licenses/by-sa/3.0)\n"
   ]
  },
  {
   "cell_type": "markdown",
   "metadata": {},
   "source": [
    "### Create array to sort"
   ]
  },
  {
   "cell_type": "code",
   "execution_count": 1,
   "metadata": {},
   "outputs": [],
   "source": [
    "int[] arr = {100, 200, 34, 278, 134, 82, 64, 149};"
   ]
  },
  {
   "cell_type": "markdown",
   "metadata": {},
   "source": [
    "### Execute selection sort\n",
    "\n",
    "This block of code can be packed inside a function **selectionSort(arr)**"
   ]
  },
  {
   "cell_type": "code",
   "execution_count": 2,
   "metadata": {},
   "outputs": [
    {
     "name": "stdout",
     "output_type": "stream",
     "text": [
      "Initial array =\t[100, 200, 34, 278, 134, 82, 64, 149]\n",
      "Iteration 1 =\t[34, 200, 100, 278, 134, 82, 64, 149]\n",
      "Iteration 2 =\t[34, 64, 100, 278, 134, 82, 200, 149]\n",
      "Iteration 3 =\t[34, 64, 82, 278, 134, 100, 200, 149]\n",
      "Iteration 4 =\t[34, 64, 82, 100, 134, 278, 200, 149]\n",
      "Iteration 5 =\t[34, 64, 82, 100, 134, 278, 200, 149]\n",
      "Iteration 6 =\t[34, 64, 82, 100, 134, 149, 200, 278]\n",
      "Iteration 7 =\t[34, 64, 82, 100, 134, 149, 200, 278]\n"
     ]
    }
   ],
   "source": [
    "import java.util.Arrays;\n",
    "System.out.println(\"Initial array =\\t\" + Arrays.toString(arr));\n",
    "\n",
    "for(int i = 0; i < arr.length - 1; i++){\n",
    "    \n",
    "    //Index of minimal element\n",
    "    int min_ix = i;\n",
    "\n",
    "    //Determine index of lowest value in remaining part of array\n",
    "    for(int j = i + 1; j < arr.length; j++){\n",
    "        if(arr[j] < arr[min_ix]){\n",
    "            min_ix = j;\n",
    "        }\n",
    "    }\n",
    "\n",
    "    //Swapping elements\n",
    "    int temp = arr[i];\n",
    "    arr[i] = arr[min_ix];\n",
    "    arr[min_ix] = temp;\n",
    "    \n",
    "    System.out.println(\"Iteration \" + (i + 1) + \" =\\t\" + Arrays.toString(arr));\n",
    "}"
   ]
  },
  {
   "cell_type": "markdown",
   "metadata": {},
   "source": [
    "Reference: [geeksforgeeks.org - Selection sort](https://www.geeksforgeeks.org/selection-sort/ \"Selection sort\")"
   ]
  },
  {
   "cell_type": "code",
   "execution_count": null,
   "metadata": {},
   "outputs": [],
   "source": []
  }
 ],
 "metadata": {
  "kernelspec": {
   "display_name": "Java",
   "language": "java",
   "name": "java"
  },
  "language_info": {
   "codemirror_mode": "java",
   "file_extension": ".jshell",
   "mimetype": "text/x-java-source",
   "name": "Java",
   "pygments_lexer": "java",
   "version": "15.0.1+9-18"
  }
 },
 "nbformat": 4,
 "nbformat_minor": 4
}
