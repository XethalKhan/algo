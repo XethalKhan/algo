{
 "cells": [
  {
   "cell_type": "markdown",
   "metadata": {},
   "source": [
    "# Iterative insertion sort of array"
   ]
  },
  {
   "cell_type": "markdown",
   "metadata": {},
   "source": [
    "![Insertion sort example](https://upload.wikimedia.org/wikipedia/commons/0/0f/Insertion-sort-example-300px.gif \"Insertion sort animation\")\n",
    "\n",
    ">A graphical example of insertion sort. The partial sorted list (black) initially contains only the first element in the list. With each iteration one element (red) is removed from the \"not yet checked for order\" input data and inserted in-place into the sorted list.\n",
    "\n",
    "[License: Swfung8, CC BY-SA 3.0, via Wikimedia Commons](https://creativecommons.org/licenses/by-sa/3.0)\n"
   ]
  },
  {
   "cell_type": "markdown",
   "metadata": {},
   "source": [
    "### Create array to sort"
   ]
  },
  {
   "cell_type": "code",
   "execution_count": 1,
   "metadata": {},
   "outputs": [],
   "source": [
    "int[] arr = {6, 5, 3, 1, 8, 7, 2, 4};"
   ]
  },
  {
   "cell_type": "markdown",
   "metadata": {},
   "source": [
    "### Execute insertion sort"
   ]
  },
  {
   "cell_type": "code",
   "execution_count": 2,
   "metadata": {},
   "outputs": [
    {
     "name": "stdout",
     "output_type": "stream",
     "text": [
      "Initial array =\t[6, 5, 3, 1, 8, 7, 2, 4]\n",
      "Iteration 1 =\t[6, 5, 3, 1, 8, 7, 2, 4]\n",
      "Iteration 2 =\t[5, 6, 3, 1, 8, 7, 2, 4]\n",
      "Iteration 3 =\t[3, 5, 6, 1, 8, 7, 2, 4]\n",
      "Iteration 4 =\t[1, 3, 5, 6, 8, 7, 2, 4]\n",
      "Iteration 5 =\t[1, 3, 5, 6, 8, 7, 2, 4]\n",
      "Iteration 6 =\t[1, 3, 5, 6, 7, 8, 2, 4]\n",
      "Iteration 7 =\t[1, 2, 3, 5, 6, 7, 8, 4]\n",
      "Iteration 8 =\t[1, 2, 3, 4, 5, 6, 7, 8]\n"
     ]
    }
   ],
   "source": [
    "import java.util.Arrays;\n",
    "System.out.println(\"Initial array =\\t\" + Arrays.toString(arr));\n",
    "\n",
    "for(int i = 0; i < arr.length; i++){\n",
    "    \n",
    "    for(int j = i; j > 0 && arr[j - 1] > arr[j]; j--){\n",
    "        \n",
    "        //Swapping elements\n",
    "        int temp = arr[j];\n",
    "        arr[j] = arr[j - 1];\n",
    "        arr[j - 1] = temp;\n",
    "        \n",
    "    }\n",
    "    \n",
    "    System.out.println(\"Iteration \" + (i + 1) + \" =\\t\" + Arrays.toString(arr));\n",
    "}"
   ]
  },
  {
   "cell_type": "markdown",
   "metadata": {},
   "source": [
    "Reference: [geeksforgeeks.org - Insertion sort (iterative)](https://www.geeksforgeeks.org/insertion-sort/ \"Insertion sort (iterative)\")"
   ]
  },
  {
   "cell_type": "code",
   "execution_count": null,
   "metadata": {},
   "outputs": [],
   "source": []
  }
 ],
 "metadata": {
  "kernelspec": {
   "display_name": "Java",
   "language": "java",
   "name": "java"
  },
  "language_info": {
   "codemirror_mode": "java",
   "file_extension": ".jshell",
   "mimetype": "text/x-java-source",
   "name": "Java",
   "pygments_lexer": "java",
   "version": "15.0.1+9-18"
  }
 },
 "nbformat": 4,
 "nbformat_minor": 4
}
