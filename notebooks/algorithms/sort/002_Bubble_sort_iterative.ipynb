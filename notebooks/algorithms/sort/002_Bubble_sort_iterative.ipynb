{
 "cells": [
  {
   "cell_type": "markdown",
   "metadata": {},
   "source": [
    "# Iterative bubble sort of array"
   ]
  },
  {
   "cell_type": "markdown",
   "metadata": {},
   "source": [
    "![Bubble sort example](https://upload.wikimedia.org/wikipedia/commons/c/c8/Bubble-sort-example-300px.gif \"Bubble sort animation\")\n",
    "\n",
    ">An example of bubble sort. Starting from the beginning of the list, compare every adjacent pair, swap their position if they are not in the right order (the latter one is smaller than the former one). After each iteration, one less element (the last one) is needed to be compared until there are no more elements left to be compared.\n",
    "\n",
    "[License: Swfung8, CC BY-SA 3.0, via Wikimedia Commons](https://creativecommons.org/licenses/by-sa/3.0)\n"
   ]
  },
  {
   "cell_type": "markdown",
   "metadata": {},
   "source": [
    "### Create array to sort"
   ]
  },
  {
   "cell_type": "code",
   "execution_count": 1,
   "metadata": {},
   "outputs": [],
   "source": [
    "int[] arr = {6, 5, 3, 1, 8, 7, 2, 4};"
   ]
  },
  {
   "cell_type": "markdown",
   "metadata": {},
   "source": [
    "### Execute bubble sort"
   ]
  },
  {
   "cell_type": "code",
   "execution_count": 2,
   "metadata": {},
   "outputs": [
    {
     "name": "stdout",
     "output_type": "stream",
     "text": [
      "Initial array =\t[6, 5, 3, 1, 8, 7, 2, 4]\n",
      "Iteration 1 =\t[5, 3, 1, 6, 7, 2, 4, 8]\n",
      "Iteration 2 =\t[3, 1, 5, 6, 2, 4, 7, 8]\n",
      "Iteration 3 =\t[1, 3, 5, 2, 4, 6, 7, 8]\n",
      "Iteration 4 =\t[1, 3, 2, 4, 5, 6, 7, 8]\n",
      "Iteration 5 =\t[1, 2, 3, 4, 5, 6, 7, 8]\n",
      "Iteration 6 =\t[1, 2, 3, 4, 5, 6, 7, 8]\n",
      "Iteration 7 =\t[1, 2, 3, 4, 5, 6, 7, 8]\n"
     ]
    }
   ],
   "source": [
    "import java.util.Arrays;\n",
    "System.out.println(\"Initial array =\\t\" + Arrays.toString(arr));\n",
    "\n",
    "for(int i = 0; i < arr.length - 1; i++){\n",
    "    \n",
    "    for(int j = 0; j < arr.length - i - 1; j++){\n",
    "        \n",
    "        if(arr[j] > arr[j + 1]){\n",
    "            \n",
    "            //Swapping elements\n",
    "            int temp = arr[j];\n",
    "            arr[j] = arr[j + 1];\n",
    "            arr[j + 1] = temp;\n",
    "            \n",
    "        }\n",
    "        \n",
    "    }\n",
    "    \n",
    "    System.out.println(\"Iteration \" + (i + 1) + \" =\\t\" + Arrays.toString(arr));\n",
    "}"
   ]
  },
  {
   "cell_type": "markdown",
   "metadata": {},
   "source": [
    "Reference: [geeksforgeeks.org - Bubble sort (iterative)](https://www.geeksforgeeks.org/bubble-sort/ \"Bubble sort (iterative)\")"
   ]
  },
  {
   "cell_type": "code",
   "execution_count": null,
   "metadata": {},
   "outputs": [],
   "source": []
  }
 ],
 "metadata": {
  "kernelspec": {
   "display_name": "Java",
   "language": "java",
   "name": "java"
  },
  "language_info": {
   "codemirror_mode": "java",
   "file_extension": ".jshell",
   "mimetype": "text/x-java-source",
   "name": "Java",
   "pygments_lexer": "java",
   "version": "15.0.1+9-18"
  }
 },
 "nbformat": 4,
 "nbformat_minor": 4
}
