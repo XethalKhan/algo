{
 "cells": [
  {
   "cell_type": "markdown",
   "metadata": {},
   "source": [
    "# Recursive bubble sort of array\n",
    "\n",
    "![Bubble sort example](https://upload.wikimedia.org/wikipedia/commons/c/c8/Bubble-sort-example-300px.gif \"Bubble sort animation\")\n",
    "\n",
    ">An example of bubble sort. Starting from the beginning of the list, compare every adjacent pair, swap their position if they are not in the right order (the latter one is smaller than the former one). After each iteration, one less element (the last one) is needed to be compared until there are no more elements left to be compared.\n",
    "\n",
    "[License: Swfung8, CC BY-SA 3.0, via Wikimedia Commons](https://creativecommons.org/licenses/by-sa/3.0)\n",
    "\n",
    "Recursive Bubble Sort has no performance/implementation advantages, but can be a good question to check one’s understanding of Bubble Sort and recursion.\n",
    "\n",
    "### Recursion Idea  \n",
    "\n",
    "1. **Base Case**: If array size is 1, return.\n",
    "2. Do One Pass of normal Bubble Sort. This pass fixes last element of current subarray.\n",
    "3. Recur for all elements except last of current subarray.\n",
    "\n",
    "### Create array to sort"
   ]
  },
  {
   "cell_type": "code",
   "execution_count": 1,
   "metadata": {},
   "outputs": [],
   "source": [
    "int[] arr = {6, 5, 3, 1, 8, 7, 2, 4};"
   ]
  },
  {
   "cell_type": "markdown",
   "metadata": {},
   "source": [
    "### Define recursive bubble sort function"
   ]
  },
  {
   "cell_type": "code",
   "execution_count": 2,
   "metadata": {},
   "outputs": [],
   "source": [
    "public class BubbleSortRecursive{\n",
    "\n",
    "    public static void process(int[] arr, int n){\n",
    "    \n",
    "        //1. Base Case: If array size is 1, return.\n",
    "        if(n == 1){\n",
    "            return;\n",
    "        }\n",
    "        \n",
    "        //2. Do One Pass of normal Bubble Sort. This pass fixes last element of current subarray.\n",
    "        for(int i = 0; i < n - 1; i++){\n",
    "        \n",
    "            if(arr[i] > arr[i + 1]){\n",
    "                int temp = arr[i];\n",
    "                arr[i] = arr[i + 1];\n",
    "                arr[i + 1] = temp;\n",
    "            }\n",
    "        \n",
    "        }\n",
    "        \n",
    "        System.out.println(\"After recursive call \" + (arr.length - n + 1) + \" =\\t\" + Arrays.toString(arr));\n",
    "        \n",
    "        //3. Recur for all elements except last of current subarray.\n",
    "        process(arr, n - 1);\n",
    "    \n",
    "    }\n",
    "\n",
    "}"
   ]
  },
  {
   "cell_type": "markdown",
   "metadata": {},
   "source": [
    "### Execute bubble sort"
   ]
  },
  {
   "cell_type": "code",
   "execution_count": 3,
   "metadata": {},
   "outputs": [
    {
     "name": "stdout",
     "output_type": "stream",
     "text": [
      "Initial array =\t\t\t[6, 5, 3, 1, 8, 7, 2, 4]\n",
      "After recursive call 1 =\t[5, 3, 1, 6, 7, 2, 4, 8]\n",
      "After recursive call 2 =\t[3, 1, 5, 6, 2, 4, 7, 8]\n",
      "After recursive call 3 =\t[1, 3, 5, 2, 4, 6, 7, 8]\n",
      "After recursive call 4 =\t[1, 3, 2, 4, 5, 6, 7, 8]\n",
      "After recursive call 5 =\t[1, 2, 3, 4, 5, 6, 7, 8]\n",
      "After recursive call 6 =\t[1, 2, 3, 4, 5, 6, 7, 8]\n",
      "After recursive call 7 =\t[1, 2, 3, 4, 5, 6, 7, 8]\n"
     ]
    }
   ],
   "source": [
    "import java.util.Arrays;\n",
    "System.out.println(\"Initial array =\\t\\t\\t\" + Arrays.toString(arr));\n",
    "\n",
    "BubbleSortRecursive.process(arr, arr.length);"
   ]
  },
  {
   "cell_type": "markdown",
   "metadata": {},
   "source": [
    "Reference: [geeksforgeeks.org - Bubble sort (recursive)](https://www.geeksforgeeks.org/recursive-bubble-sort/ \"Recursive bubble sort\")"
   ]
  },
  {
   "cell_type": "code",
   "execution_count": null,
   "metadata": {},
   "outputs": [],
   "source": []
  }
 ],
 "metadata": {
  "kernelspec": {
   "display_name": "Java",
   "language": "java",
   "name": "java"
  },
  "language_info": {
   "codemirror_mode": "java",
   "file_extension": ".jshell",
   "mimetype": "text/x-java-source",
   "name": "Java",
   "pygments_lexer": "java",
   "version": "15.0.1+9-18"
  }
 },
 "nbformat": 4,
 "nbformat_minor": 4
}
